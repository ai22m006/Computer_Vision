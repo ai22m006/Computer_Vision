{
 "cells": [
  {
   "cell_type": "markdown",
   "metadata": {},
   "source": [
    "# Image Classification Project 6\n",
    "Choose three classes from the Open Images Dataset. Train a neural net that is able to classify images into these three categories.\n",
    "\n"
   ]
  },
  {
   "cell_type": "code",
   "execution_count": 31,
   "metadata": {
    "pycharm": {
     "is_executing": true
    },
    "ExecuteTime": {
     "end_time": "2023-06-09T12:47:53.379401900Z",
     "start_time": "2023-06-09T12:47:53.376895700Z"
    }
   },
   "outputs": [
    {
     "name": "stdout",
     "output_type": "stream",
     "text": [
      "['Cat', 'Dog', 'Person']\n"
     ]
    }
   ],
   "source": [
    "classes = ['Cat', 'Dog', 'Person']\n",
    "print(classes)"
   ]
  },
  {
   "cell_type": "markdown",
   "metadata": {},
   "source": [
    "## Dataset\n",
    "https://storage.googleapis.com/openimages/web/visualizer/index.html?type=detection\n",
    "\n",
    "## Base model\n",
    "VGG 19"
   ]
  },
  {
   "cell_type": "code",
   "execution_count": 32,
   "metadata": {
    "pycharm": {
     "is_executing": true
    },
    "ExecuteTime": {
     "end_time": "2023-06-09T12:47:54.769447600Z",
     "start_time": "2023-06-09T12:47:54.763943100Z"
    }
   },
   "outputs": [],
   "source": [
    "# imports\n",
    "import os\n",
    "import numpy as np\n",
    "import pandas as pd\n",
    "from PIL import Image\n",
    "import matplotlib.pyplot as plt\n",
    "import shutil\n",
    "from openimages import download\n",
    "from keras.applications import VGG19\n",
    "from keras.layers import Dense, Flatten, Conv2D, LeakyReLU\n",
    "from keras.models import Model\n",
    "from keras.preprocessing.image import ImageDataGenerator\n",
    "from keras.models import Sequential\n",
    "import tensorflow as tf\n",
    "import keras\n"
   ]
  },
  {
   "cell_type": "code",
   "execution_count": 33,
   "metadata": {
    "ExecuteTime": {
     "end_time": "2023-06-09T12:49:29.682264300Z",
     "start_time": "2023-06-09T12:47:56.465727100Z"
    }
   },
   "outputs": [
    {
     "name": "stderr",
     "output_type": "stream",
     "text": [
      "2023-06-09  14:49:17 INFO Downloading 10 train images for class 'cat'\n",
      "100%|██████████| 10/10 [00:01<00:00,  5.85it/s]\n",
      "2023-06-09  14:49:19 INFO Downloading 10 train images for class 'dog'\n",
      "100%|██████████| 10/10 [00:01<00:00,  6.95it/s]\n",
      "2023-06-09  14:49:21 INFO Downloading 10 train images for class 'person'\n",
      "100%|██████████| 10/10 [00:01<00:00,  7.05it/s]\n"
     ]
    },
    {
     "data": {
      "text/plain": "{'cat': {'images_dir': './dataset\\\\cat\\\\images'},\n 'dog': {'images_dir': './dataset\\\\dog\\\\images'},\n 'person': {'images_dir': './dataset\\\\person\\\\images'}}"
     },
     "execution_count": 33,
     "metadata": {},
     "output_type": "execute_result"
    }
   ],
   "source": [
    "# Path to the directory where the images are stored\n",
    "base_dir = './dataset'\n",
    "\n",
    "# Check if the directory exists\n",
    "if os.path.exists(base_dir):\n",
    "    # Delete the directory and its contents\n",
    "    shutil.rmtree(base_dir)\n",
    "\n",
    "# number of images per class\n",
    "n_images = 10\n",
    "\n",
    "# Download images for each class using Open Images\n",
    "download.download_dataset(\n",
    "    dest_dir=base_dir,\n",
    "    class_labels=classes,\n",
    "    limit=n_images\n",
    ")"
   ]
  },
  {
   "cell_type": "markdown",
   "metadata": {},
   "source": [
    "## Task\n",
    "1. Preparation: Split dataset into a 70/30 Train/test split\n"
   ]
  },
  {
   "cell_type": "code",
   "execution_count": 47,
   "metadata": {
    "ExecuteTime": {
     "end_time": "2023-06-09T13:03:25.322803200Z",
     "start_time": "2023-06-09T13:03:25.114804400Z"
    }
   },
   "outputs": [],
   "source": [
    "# Define the image directory\n",
    "image_dir = 'dataset'\n",
    "\n",
    "# Initialize lists to store images and labels\n",
    "images = []\n",
    "labels = []\n",
    "\n",
    "# Iterate over subdirectories\n",
    "for class_name in os.listdir(image_dir):\n",
    "    class_dir = os.path.join(image_dir, class_name)\n",
    "\n",
    "    if os.path.isdir(class_dir):\n",
    "        # Iterate over the image files in the subdirectory\n",
    "        class_dir = os.path.join(class_dir, \"images\")\n",
    "        for filename in os.listdir(class_dir):\n",
    "            if filename.endswith('.jpg') or filename.endswith('.png'):\n",
    "                image_path = os.path.join(class_dir, filename)\n",
    "                # Load the image using PIL\n",
    "                image = np.array(Image.open(image_path))\n",
    "                # Append the image to the list\n",
    "                images.append(image)\n",
    "                # Assign the label based on the subdirectory (class name)\n",
    "                label = class_name\n",
    "                labels.append(label)\n",
    "\n",
    "# Convert the image list to a numpy array\n",
    "images = np.array(images)\n",
    "# Convert the labels list to a numpy array\n",
    "labels = np.array(labels)\n",
    "\n",
    "# Shuffle the images and labels in unison\n",
    "random_indices = np.random.permutation(len(images))\n",
    "images = images[random_indices]\n",
    "labels = labels[random_indices]"
   ]
  },
  {
   "cell_type": "code",
   "execution_count": 48,
   "metadata": {
    "ExecuteTime": {
     "end_time": "2023-06-09T13:03:27.267241300Z",
     "start_time": "2023-06-09T13:03:27.167561400Z"
    }
   },
   "outputs": [
    {
     "data": {
      "text/plain": "<Figure size 640x480 with 1 Axes>",
      "image/png": "[encoded data removed]"
     },
     "metadata": {},
     "output_type": "display_data"
    }
   ],
   "source": [
    "# Count the number of images in each class\n",
    "unique_classes, class_counts = np.unique(labels, return_counts=True)\n",
    "# Plot the class distribution\n",
    "plt.bar(unique_classes, class_counts)\n",
    "plt.xlabel('Class')\n",
    "plt.ylabel('Number of Images')\n",
    "plt.title('Class Distribution')\n",
    "plt.show()"
   ]
  },
  {
   "cell_type": "markdown",
   "metadata": {},
   "source": [
    "2. Train a VGG19 network from scratch (randomly initialized weights) and estimate the testset accuracy."
   ]
  },
  {
   "cell_type": "code",
   "execution_count": 13,
   "metadata": {
    "ExecuteTime": {
     "end_time": "2023-06-06T14:03:40.732193300Z",
     "start_time": "2023-06-06T12:39:26.527220Z"
    }
   },
   "outputs": [
    {
     "name": "stdout",
     "output_type": "stream",
     "text": [
      "Epoch 1/10\n",
      "99/99 [==============================] - 508s 5s/step - loss: 1.2068 - accuracy: 0.3171 - val_loss: 1.0987 - val_accuracy: 0.3333\n",
      "Epoch 2/10\n",
      "99/99 [==============================] - 507s 5s/step - loss: 1.0988 - accuracy: 0.3270 - val_loss: 1.0986 - val_accuracy: 0.3333\n",
      "Epoch 3/10\n",
      "99/99 [==============================] - 504s 5s/step - loss: 1.0987 - accuracy: 0.3181 - val_loss: 1.0986 - val_accuracy: 0.3333\n",
      "Epoch 4/10\n",
      "99/99 [==============================] - 505s 5s/step - loss: 1.0987 - accuracy: 0.3308 - val_loss: 1.0986 - val_accuracy: 0.3333\n",
      "Epoch 5/10\n",
      "99/99 [==============================] - 511s 5s/step - loss: 1.0987 - accuracy: 0.3273 - val_loss: 1.0986 - val_accuracy: 0.3333\n",
      "Epoch 6/10\n",
      "99/99 [==============================] - 509s 5s/step - loss: 1.0987 - accuracy: 0.3244 - val_loss: 1.0986 - val_accuracy: 0.3333\n",
      "Epoch 7/10\n",
      "99/99 [==============================] - 508s 5s/step - loss: 1.0987 - accuracy: 0.3171 - val_loss: 1.0986 - val_accuracy: 0.3333\n",
      "Epoch 8/10\n",
      "99/99 [==============================] - 499s 5s/step - loss: 1.0987 - accuracy: 0.3203 - val_loss: 1.0986 - val_accuracy: 0.3333\n",
      "Epoch 9/10\n",
      "99/99 [==============================] - 501s 5s/step - loss: 1.0987 - accuracy: 0.3260 - val_loss: 1.0986 - val_accuracy: 0.3333\n",
      "Epoch 10/10\n",
      "99/99 [==============================] - 501s 5s/step - loss: 1.0987 - accuracy: 0.3295 - val_loss: 1.0986 - val_accuracy: 0.3333\n"
     ]
    }
   ],
   "source": [
    "# Load a VGG19 model with random initialized weights\n",
    "base_model = VGG19(weights=None, include_top=False, input_shape=(img_height, img_width, 3))\n",
    "\n",
    "# Create a new model\n",
    "plain_model = Sequential()\n",
    "# Add the base model as the first layer\n",
    "plain_model.add(base_model)\n",
    "# Flatten the output of the base model\n",
    "plain_model.add(Flatten())\n",
    "# Add the final output layer with softmax activation\n",
    "plain_model.add(Dense(len(classes), activation='softmax'))\n",
    "\n",
    "# Compile the model\n",
    "plain_model.compile(optimizer='adam', loss='categorical_crossentropy', metrics=['accuracy'])\n",
    "\n",
    "# Train the model\n",
    "plain_history = plain_model.fit(\n",
    "    train_generator,\n",
    "    validation_data=validation_generator,\n",
    "    epochs=10)\n",
    "\n",
    "plain_model.save(\"models/plain_model_raw_data.h5\")"
   ]
  },
  {
   "cell_type": "markdown",
   "metadata": {},
   "source": [
    "3. Use an imagenet pretrained VGG19 network, train the model and estimate the testset accuracy."
   ]
  },
  {
   "cell_type": "markdown",
   "source": [],
   "metadata": {
    "collapsed": false
   }
  },
  {
   "cell_type": "code",
   "execution_count": 14,
   "metadata": {
    "ExecuteTime": {
     "end_time": "2023-06-06T14:08:19.287645800Z",
     "start_time": "2023-06-06T14:03:40.740801800Z"
    }
   },
   "outputs": [
    {
     "name": "stdout",
     "output_type": "stream",
     "text": [
      "Epoch 1/10\n",
      "59/99 [================>.............] - ETA: 3:04 - loss: 2.3131 - accuracy: 0.3283"
     ]
    },
    {
     "ename": "KeyboardInterrupt",
     "evalue": "",
     "output_type": "error",
     "traceback": [
      "\u001B[1;31m---------------------------------------------------------------------------\u001B[0m",
      "\u001B[1;31mKeyboardInterrupt\u001B[0m                         Traceback (most recent call last)",
      "Cell \u001B[1;32mIn[14], line 17\u001B[0m\n\u001B[0;32m     14\u001B[0m trained_model\u001B[38;5;241m.\u001B[39mcompile(optimizer\u001B[38;5;241m=\u001B[39m\u001B[38;5;124m'\u001B[39m\u001B[38;5;124madam\u001B[39m\u001B[38;5;124m'\u001B[39m, loss\u001B[38;5;241m=\u001B[39m\u001B[38;5;124m'\u001B[39m\u001B[38;5;124mcategorical_crossentropy\u001B[39m\u001B[38;5;124m'\u001B[39m, metrics\u001B[38;5;241m=\u001B[39m[\u001B[38;5;124m'\u001B[39m\u001B[38;5;124maccuracy\u001B[39m\u001B[38;5;124m'\u001B[39m])\n\u001B[0;32m     16\u001B[0m \u001B[38;5;66;03m# Train the model\u001B[39;00m\n\u001B[1;32m---> 17\u001B[0m trained_history  \u001B[38;5;241m=\u001B[39m \u001B[43mtrained_model\u001B[49m\u001B[38;5;241;43m.\u001B[39;49m\u001B[43mfit\u001B[49m\u001B[43m(\u001B[49m\n\u001B[0;32m     18\u001B[0m \u001B[43m    \u001B[49m\u001B[43mtrain_generator\u001B[49m\u001B[43m,\u001B[49m\n\u001B[0;32m     19\u001B[0m \u001B[43m    \u001B[49m\u001B[43mvalidation_data\u001B[49m\u001B[38;5;241;43m=\u001B[39;49m\u001B[43mvalidation_generator\u001B[49m\u001B[43m,\u001B[49m\n\u001B[0;32m     20\u001B[0m \u001B[43m    \u001B[49m\u001B[43mepochs\u001B[49m\u001B[38;5;241;43m=\u001B[39;49m\u001B[38;5;241;43m10\u001B[39;49m\u001B[43m)\u001B[49m\n\u001B[0;32m     22\u001B[0m trained_model\u001B[38;5;241m.\u001B[39msave(\u001B[38;5;124m\"\u001B[39m\u001B[38;5;124mtrained_model_raw_data.h5\u001B[39m\u001B[38;5;124m\"\u001B[39m)\n",
      "File \u001B[1;32mC:\\dev\\repos\\FH\\Computer_Vision\\venv\\Lib\\site-packages\\keras\\utils\\traceback_utils.py:65\u001B[0m, in \u001B[0;36mfilter_traceback.<locals>.error_handler\u001B[1;34m(*args, **kwargs)\u001B[0m\n\u001B[0;32m     63\u001B[0m filtered_tb \u001B[38;5;241m=\u001B[39m \u001B[38;5;28;01mNone\u001B[39;00m\n\u001B[0;32m     64\u001B[0m \u001B[38;5;28;01mtry\u001B[39;00m:\n\u001B[1;32m---> 65\u001B[0m     \u001B[38;5;28;01mreturn\u001B[39;00m \u001B[43mfn\u001B[49m\u001B[43m(\u001B[49m\u001B[38;5;241;43m*\u001B[39;49m\u001B[43margs\u001B[49m\u001B[43m,\u001B[49m\u001B[43m \u001B[49m\u001B[38;5;241;43m*\u001B[39;49m\u001B[38;5;241;43m*\u001B[39;49m\u001B[43mkwargs\u001B[49m\u001B[43m)\u001B[49m\n\u001B[0;32m     66\u001B[0m \u001B[38;5;28;01mexcept\u001B[39;00m \u001B[38;5;167;01mException\u001B[39;00m \u001B[38;5;28;01mas\u001B[39;00m e:\n\u001B[0;32m     67\u001B[0m     filtered_tb \u001B[38;5;241m=\u001B[39m _process_traceback_frames(e\u001B[38;5;241m.\u001B[39m__traceback__)\n",
      "File \u001B[1;32mC:\\dev\\repos\\FH\\Computer_Vision\\venv\\Lib\\site-packages\\keras\\engine\\training.py:1685\u001B[0m, in \u001B[0;36mModel.fit\u001B[1;34m(self, x, y, batch_size, epochs, verbose, callbacks, validation_split, validation_data, shuffle, class_weight, sample_weight, initial_epoch, steps_per_epoch, validation_steps, validation_batch_size, validation_freq, max_queue_size, workers, use_multiprocessing)\u001B[0m\n\u001B[0;32m   1677\u001B[0m \u001B[38;5;28;01mwith\u001B[39;00m tf\u001B[38;5;241m.\u001B[39mprofiler\u001B[38;5;241m.\u001B[39mexperimental\u001B[38;5;241m.\u001B[39mTrace(\n\u001B[0;32m   1678\u001B[0m     \u001B[38;5;124m\"\u001B[39m\u001B[38;5;124mtrain\u001B[39m\u001B[38;5;124m\"\u001B[39m,\n\u001B[0;32m   1679\u001B[0m     epoch_num\u001B[38;5;241m=\u001B[39mepoch,\n\u001B[1;32m   (...)\u001B[0m\n\u001B[0;32m   1682\u001B[0m     _r\u001B[38;5;241m=\u001B[39m\u001B[38;5;241m1\u001B[39m,\n\u001B[0;32m   1683\u001B[0m ):\n\u001B[0;32m   1684\u001B[0m     callbacks\u001B[38;5;241m.\u001B[39mon_train_batch_begin(step)\n\u001B[1;32m-> 1685\u001B[0m     tmp_logs \u001B[38;5;241m=\u001B[39m \u001B[38;5;28;43mself\u001B[39;49m\u001B[38;5;241;43m.\u001B[39;49m\u001B[43mtrain_function\u001B[49m\u001B[43m(\u001B[49m\u001B[43miterator\u001B[49m\u001B[43m)\u001B[49m\n\u001B[0;32m   1686\u001B[0m     \u001B[38;5;28;01mif\u001B[39;00m data_handler\u001B[38;5;241m.\u001B[39mshould_sync:\n\u001B[0;32m   1687\u001B[0m         context\u001B[38;5;241m.\u001B[39masync_wait()\n",
      "File \u001B[1;32mC:\\dev\\repos\\FH\\Computer_Vision\\venv\\Lib\\site-packages\\tensorflow\\python\\util\\traceback_utils.py:150\u001B[0m, in \u001B[0;36mfilter_traceback.<locals>.error_handler\u001B[1;34m(*args, **kwargs)\u001B[0m\n\u001B[0;32m    148\u001B[0m filtered_tb \u001B[38;5;241m=\u001B[39m \u001B[38;5;28;01mNone\u001B[39;00m\n\u001B[0;32m    149\u001B[0m \u001B[38;5;28;01mtry\u001B[39;00m:\n\u001B[1;32m--> 150\u001B[0m   \u001B[38;5;28;01mreturn\u001B[39;00m \u001B[43mfn\u001B[49m\u001B[43m(\u001B[49m\u001B[38;5;241;43m*\u001B[39;49m\u001B[43margs\u001B[49m\u001B[43m,\u001B[49m\u001B[43m \u001B[49m\u001B[38;5;241;43m*\u001B[39;49m\u001B[38;5;241;43m*\u001B[39;49m\u001B[43mkwargs\u001B[49m\u001B[43m)\u001B[49m\n\u001B[0;32m    151\u001B[0m \u001B[38;5;28;01mexcept\u001B[39;00m \u001B[38;5;167;01mException\u001B[39;00m \u001B[38;5;28;01mas\u001B[39;00m e:\n\u001B[0;32m    152\u001B[0m   filtered_tb \u001B[38;5;241m=\u001B[39m _process_traceback_frames(e\u001B[38;5;241m.\u001B[39m__traceback__)\n",
      "File \u001B[1;32mC:\\dev\\repos\\FH\\Computer_Vision\\venv\\Lib\\site-packages\\tensorflow\\python\\eager\\polymorphic_function\\polymorphic_function.py:894\u001B[0m, in \u001B[0;36mFunction.__call__\u001B[1;34m(self, *args, **kwds)\u001B[0m\n\u001B[0;32m    891\u001B[0m compiler \u001B[38;5;241m=\u001B[39m \u001B[38;5;124m\"\u001B[39m\u001B[38;5;124mxla\u001B[39m\u001B[38;5;124m\"\u001B[39m \u001B[38;5;28;01mif\u001B[39;00m \u001B[38;5;28mself\u001B[39m\u001B[38;5;241m.\u001B[39m_jit_compile \u001B[38;5;28;01melse\u001B[39;00m \u001B[38;5;124m\"\u001B[39m\u001B[38;5;124mnonXla\u001B[39m\u001B[38;5;124m\"\u001B[39m\n\u001B[0;32m    893\u001B[0m \u001B[38;5;28;01mwith\u001B[39;00m OptionalXlaContext(\u001B[38;5;28mself\u001B[39m\u001B[38;5;241m.\u001B[39m_jit_compile):\n\u001B[1;32m--> 894\u001B[0m   result \u001B[38;5;241m=\u001B[39m \u001B[38;5;28;43mself\u001B[39;49m\u001B[38;5;241;43m.\u001B[39;49m\u001B[43m_call\u001B[49m\u001B[43m(\u001B[49m\u001B[38;5;241;43m*\u001B[39;49m\u001B[43margs\u001B[49m\u001B[43m,\u001B[49m\u001B[43m \u001B[49m\u001B[38;5;241;43m*\u001B[39;49m\u001B[38;5;241;43m*\u001B[39;49m\u001B[43mkwds\u001B[49m\u001B[43m)\u001B[49m\n\u001B[0;32m    896\u001B[0m new_tracing_count \u001B[38;5;241m=\u001B[39m \u001B[38;5;28mself\u001B[39m\u001B[38;5;241m.\u001B[39mexperimental_get_tracing_count()\n\u001B[0;32m    897\u001B[0m without_tracing \u001B[38;5;241m=\u001B[39m (tracing_count \u001B[38;5;241m==\u001B[39m new_tracing_count)\n",
      "File \u001B[1;32mC:\\dev\\repos\\FH\\Computer_Vision\\venv\\Lib\\site-packages\\tensorflow\\python\\eager\\polymorphic_function\\polymorphic_function.py:926\u001B[0m, in \u001B[0;36mFunction._call\u001B[1;34m(self, *args, **kwds)\u001B[0m\n\u001B[0;32m    923\u001B[0m   \u001B[38;5;28mself\u001B[39m\u001B[38;5;241m.\u001B[39m_lock\u001B[38;5;241m.\u001B[39mrelease()\n\u001B[0;32m    924\u001B[0m   \u001B[38;5;66;03m# In this case we have created variables on the first call, so we run the\u001B[39;00m\n\u001B[0;32m    925\u001B[0m   \u001B[38;5;66;03m# defunned version which is guaranteed to never create variables.\u001B[39;00m\n\u001B[1;32m--> 926\u001B[0m   \u001B[38;5;28;01mreturn\u001B[39;00m \u001B[38;5;28;43mself\u001B[39;49m\u001B[38;5;241;43m.\u001B[39;49m\u001B[43m_no_variable_creation_fn\u001B[49m\u001B[43m(\u001B[49m\u001B[38;5;241;43m*\u001B[39;49m\u001B[43margs\u001B[49m\u001B[43m,\u001B[49m\u001B[43m \u001B[49m\u001B[38;5;241;43m*\u001B[39;49m\u001B[38;5;241;43m*\u001B[39;49m\u001B[43mkwds\u001B[49m\u001B[43m)\u001B[49m  \u001B[38;5;66;03m# pylint: disable=not-callable\u001B[39;00m\n\u001B[0;32m    927\u001B[0m \u001B[38;5;28;01melif\u001B[39;00m \u001B[38;5;28mself\u001B[39m\u001B[38;5;241m.\u001B[39m_variable_creation_fn \u001B[38;5;129;01mis\u001B[39;00m \u001B[38;5;129;01mnot\u001B[39;00m \u001B[38;5;28;01mNone\u001B[39;00m:\n\u001B[0;32m    928\u001B[0m   \u001B[38;5;66;03m# Release the lock early so that multiple threads can perform the call\u001B[39;00m\n\u001B[0;32m    929\u001B[0m   \u001B[38;5;66;03m# in parallel.\u001B[39;00m\n\u001B[0;32m    930\u001B[0m   \u001B[38;5;28mself\u001B[39m\u001B[38;5;241m.\u001B[39m_lock\u001B[38;5;241m.\u001B[39mrelease()\n",
      "File \u001B[1;32mC:\\dev\\repos\\FH\\Computer_Vision\\venv\\Lib\\site-packages\\tensorflow\\python\\eager\\polymorphic_function\\tracing_compiler.py:143\u001B[0m, in \u001B[0;36mTracingCompiler.__call__\u001B[1;34m(self, *args, **kwargs)\u001B[0m\n\u001B[0;32m    140\u001B[0m \u001B[38;5;28;01mwith\u001B[39;00m \u001B[38;5;28mself\u001B[39m\u001B[38;5;241m.\u001B[39m_lock:\n\u001B[0;32m    141\u001B[0m   (concrete_function,\n\u001B[0;32m    142\u001B[0m    filtered_flat_args) \u001B[38;5;241m=\u001B[39m \u001B[38;5;28mself\u001B[39m\u001B[38;5;241m.\u001B[39m_maybe_define_function(args, kwargs)\n\u001B[1;32m--> 143\u001B[0m \u001B[38;5;28;01mreturn\u001B[39;00m \u001B[43mconcrete_function\u001B[49m\u001B[38;5;241;43m.\u001B[39;49m\u001B[43m_call_flat\u001B[49m\u001B[43m(\u001B[49m\n\u001B[0;32m    144\u001B[0m \u001B[43m    \u001B[49m\u001B[43mfiltered_flat_args\u001B[49m\u001B[43m,\u001B[49m\u001B[43m \u001B[49m\u001B[43mcaptured_inputs\u001B[49m\u001B[38;5;241;43m=\u001B[39;49m\u001B[43mconcrete_function\u001B[49m\u001B[38;5;241;43m.\u001B[39;49m\u001B[43mcaptured_inputs\u001B[49m\u001B[43m)\u001B[49m\n",
      "File \u001B[1;32mC:\\dev\\repos\\FH\\Computer_Vision\\venv\\Lib\\site-packages\\tensorflow\\python\\eager\\polymorphic_function\\monomorphic_function.py:1757\u001B[0m, in \u001B[0;36mConcreteFunction._call_flat\u001B[1;34m(self, args, captured_inputs, cancellation_manager)\u001B[0m\n\u001B[0;32m   1753\u001B[0m possible_gradient_type \u001B[38;5;241m=\u001B[39m gradients_util\u001B[38;5;241m.\u001B[39mPossibleTapeGradientTypes(args)\n\u001B[0;32m   1754\u001B[0m \u001B[38;5;28;01mif\u001B[39;00m (possible_gradient_type \u001B[38;5;241m==\u001B[39m gradients_util\u001B[38;5;241m.\u001B[39mPOSSIBLE_GRADIENT_TYPES_NONE\n\u001B[0;32m   1755\u001B[0m     \u001B[38;5;129;01mand\u001B[39;00m executing_eagerly):\n\u001B[0;32m   1756\u001B[0m   \u001B[38;5;66;03m# No tape is watching; skip to running the function.\u001B[39;00m\n\u001B[1;32m-> 1757\u001B[0m   \u001B[38;5;28;01mreturn\u001B[39;00m \u001B[38;5;28mself\u001B[39m\u001B[38;5;241m.\u001B[39m_build_call_outputs(\u001B[38;5;28;43mself\u001B[39;49m\u001B[38;5;241;43m.\u001B[39;49m\u001B[43m_inference_function\u001B[49m\u001B[38;5;241;43m.\u001B[39;49m\u001B[43mcall\u001B[49m\u001B[43m(\u001B[49m\n\u001B[0;32m   1758\u001B[0m \u001B[43m      \u001B[49m\u001B[43mctx\u001B[49m\u001B[43m,\u001B[49m\u001B[43m \u001B[49m\u001B[43margs\u001B[49m\u001B[43m,\u001B[49m\u001B[43m \u001B[49m\u001B[43mcancellation_manager\u001B[49m\u001B[38;5;241;43m=\u001B[39;49m\u001B[43mcancellation_manager\u001B[49m\u001B[43m)\u001B[49m)\n\u001B[0;32m   1759\u001B[0m forward_backward \u001B[38;5;241m=\u001B[39m \u001B[38;5;28mself\u001B[39m\u001B[38;5;241m.\u001B[39m_select_forward_and_backward_functions(\n\u001B[0;32m   1760\u001B[0m     args,\n\u001B[0;32m   1761\u001B[0m     possible_gradient_type,\n\u001B[0;32m   1762\u001B[0m     executing_eagerly)\n\u001B[0;32m   1763\u001B[0m forward_function, args_with_tangents \u001B[38;5;241m=\u001B[39m forward_backward\u001B[38;5;241m.\u001B[39mforward()\n",
      "File \u001B[1;32mC:\\dev\\repos\\FH\\Computer_Vision\\venv\\Lib\\site-packages\\tensorflow\\python\\eager\\polymorphic_function\\monomorphic_function.py:381\u001B[0m, in \u001B[0;36m_EagerDefinedFunction.call\u001B[1;34m(self, ctx, args, cancellation_manager)\u001B[0m\n\u001B[0;32m    379\u001B[0m \u001B[38;5;28;01mwith\u001B[39;00m _InterpolateFunctionError(\u001B[38;5;28mself\u001B[39m):\n\u001B[0;32m    380\u001B[0m   \u001B[38;5;28;01mif\u001B[39;00m cancellation_manager \u001B[38;5;129;01mis\u001B[39;00m \u001B[38;5;28;01mNone\u001B[39;00m:\n\u001B[1;32m--> 381\u001B[0m     outputs \u001B[38;5;241m=\u001B[39m \u001B[43mexecute\u001B[49m\u001B[38;5;241;43m.\u001B[39;49m\u001B[43mexecute\u001B[49m\u001B[43m(\u001B[49m\n\u001B[0;32m    382\u001B[0m \u001B[43m        \u001B[49m\u001B[38;5;28;43mstr\u001B[39;49m\u001B[43m(\u001B[49m\u001B[38;5;28;43mself\u001B[39;49m\u001B[38;5;241;43m.\u001B[39;49m\u001B[43msignature\u001B[49m\u001B[38;5;241;43m.\u001B[39;49m\u001B[43mname\u001B[49m\u001B[43m)\u001B[49m\u001B[43m,\u001B[49m\n\u001B[0;32m    383\u001B[0m \u001B[43m        \u001B[49m\u001B[43mnum_outputs\u001B[49m\u001B[38;5;241;43m=\u001B[39;49m\u001B[38;5;28;43mself\u001B[39;49m\u001B[38;5;241;43m.\u001B[39;49m\u001B[43m_num_outputs\u001B[49m\u001B[43m,\u001B[49m\n\u001B[0;32m    384\u001B[0m \u001B[43m        \u001B[49m\u001B[43minputs\u001B[49m\u001B[38;5;241;43m=\u001B[39;49m\u001B[43margs\u001B[49m\u001B[43m,\u001B[49m\n\u001B[0;32m    385\u001B[0m \u001B[43m        \u001B[49m\u001B[43mattrs\u001B[49m\u001B[38;5;241;43m=\u001B[39;49m\u001B[43mattrs\u001B[49m\u001B[43m,\u001B[49m\n\u001B[0;32m    386\u001B[0m \u001B[43m        \u001B[49m\u001B[43mctx\u001B[49m\u001B[38;5;241;43m=\u001B[39;49m\u001B[43mctx\u001B[49m\u001B[43m)\u001B[49m\n\u001B[0;32m    387\u001B[0m   \u001B[38;5;28;01melse\u001B[39;00m:\n\u001B[0;32m    388\u001B[0m     outputs \u001B[38;5;241m=\u001B[39m execute\u001B[38;5;241m.\u001B[39mexecute_with_cancellation(\n\u001B[0;32m    389\u001B[0m         \u001B[38;5;28mstr\u001B[39m(\u001B[38;5;28mself\u001B[39m\u001B[38;5;241m.\u001B[39msignature\u001B[38;5;241m.\u001B[39mname),\n\u001B[0;32m    390\u001B[0m         num_outputs\u001B[38;5;241m=\u001B[39m\u001B[38;5;28mself\u001B[39m\u001B[38;5;241m.\u001B[39m_num_outputs,\n\u001B[1;32m   (...)\u001B[0m\n\u001B[0;32m    393\u001B[0m         ctx\u001B[38;5;241m=\u001B[39mctx,\n\u001B[0;32m    394\u001B[0m         cancellation_manager\u001B[38;5;241m=\u001B[39mcancellation_manager)\n",
      "File \u001B[1;32mC:\\dev\\repos\\FH\\Computer_Vision\\venv\\Lib\\site-packages\\tensorflow\\python\\eager\\execute.py:52\u001B[0m, in \u001B[0;36mquick_execute\u001B[1;34m(op_name, num_outputs, inputs, attrs, ctx, name)\u001B[0m\n\u001B[0;32m     50\u001B[0m \u001B[38;5;28;01mtry\u001B[39;00m:\n\u001B[0;32m     51\u001B[0m   ctx\u001B[38;5;241m.\u001B[39mensure_initialized()\n\u001B[1;32m---> 52\u001B[0m   tensors \u001B[38;5;241m=\u001B[39m \u001B[43mpywrap_tfe\u001B[49m\u001B[38;5;241;43m.\u001B[39;49m\u001B[43mTFE_Py_Execute\u001B[49m\u001B[43m(\u001B[49m\u001B[43mctx\u001B[49m\u001B[38;5;241;43m.\u001B[39;49m\u001B[43m_handle\u001B[49m\u001B[43m,\u001B[49m\u001B[43m \u001B[49m\u001B[43mdevice_name\u001B[49m\u001B[43m,\u001B[49m\u001B[43m \u001B[49m\u001B[43mop_name\u001B[49m\u001B[43m,\u001B[49m\n\u001B[0;32m     53\u001B[0m \u001B[43m                                      \u001B[49m\u001B[43minputs\u001B[49m\u001B[43m,\u001B[49m\u001B[43m \u001B[49m\u001B[43mattrs\u001B[49m\u001B[43m,\u001B[49m\u001B[43m \u001B[49m\u001B[43mnum_outputs\u001B[49m\u001B[43m)\u001B[49m\n\u001B[0;32m     54\u001B[0m \u001B[38;5;28;01mexcept\u001B[39;00m core\u001B[38;5;241m.\u001B[39m_NotOkStatusException \u001B[38;5;28;01mas\u001B[39;00m e:\n\u001B[0;32m     55\u001B[0m   \u001B[38;5;28;01mif\u001B[39;00m name \u001B[38;5;129;01mis\u001B[39;00m \u001B[38;5;129;01mnot\u001B[39;00m \u001B[38;5;28;01mNone\u001B[39;00m:\n",
      "\u001B[1;31mKeyboardInterrupt\u001B[0m: "
     ]
    }
   ],
   "source": [
    "# Load a VGG19 model with random initialized weights\n",
    "pre_trained_model = VGG19(weights='imagenet', include_top=False, input_shape=(img_height, img_width, 3))\n",
    "\n",
    "# Create a new model\n",
    "trained_model = Sequential()\n",
    "# Add the base model as the first layer\n",
    "trained_model.add(pre_trained_model)\n",
    "# Flatten the output of the base model\n",
    "trained_model.add(Flatten())\n",
    "# Add the final output layer with softmax activation\n",
    "trained_model.add(Dense(len(classes), activation='softmax'))\n",
    "\n",
    "# Compile the model\n",
    "trained_model.compile(optimizer='adam', loss='categorical_crossentropy', metrics=['accuracy'])\n",
    "\n",
    "# Train the model\n",
    "trained_history  = trained_model.fit(\n",
    "    train_generator,\n",
    "    validation_data=validation_generator,\n",
    "    epochs=10)\n",
    "\n",
    "trained_model.save(\"models/trained_model_raw_data.h5\")"
   ]
  },
  {
   "cell_type": "markdown",
   "metadata": {},
   "source": [
    "#### The differences in loss and accuracy of the plain and pre trained network over the first 10 epochs"
   ]
  },
  {
   "cell_type": "code",
   "execution_count": null,
   "metadata": {},
   "outputs": [],
   "source": [
    "# Extract loss and accuracy values for both models\n",
    "plain_loss = plain_history.history['loss']\n",
    "plain_accuracy = plain_history.history['accuracy']\n",
    "trained_loss = trained_history.history['loss']\n",
    "trained_accuracy = trained_history.history['accuracy']\n",
    "\n",
    "# Plot the loss curves\n",
    "plt.figure(figsize=(12, 6))\n",
    "plt.plot(range(1, 11), plain_loss, 'b-', label='Plain Model')\n",
    "plt.plot(range(1, 11), trained_loss, 'r-', label='Pre-trained Model')\n",
    "plt.title('Loss Curves')\n",
    "plt.xlabel('Epochs')\n",
    "plt.ylabel('Loss')\n",
    "plt.legend()\n",
    "plt.show()\n",
    "\n",
    "# Plot the accuracy curves\n",
    "plt.figure(figsize=(12, 6))\n",
    "plt.plot(range(1, 11), plain_accuracy, 'b-', label='Plain Model')\n",
    "plt.plot(range(1, 11), trained_accuracy, 'r-', label='Pre-trained Model')\n",
    "plt.title('Accuracy Curves')\n",
    "plt.xlabel('Epochs')\n",
    "plt.ylabel('Accuracy')\n",
    "plt.legend()\n",
    "plt.show()"
   ]
  },
  {
   "cell_type": "markdown",
   "metadata": {},
   "source": [
    "4. Data cleansing: Remove “bad” images from the dataset. Which did you remove? How many? Discuss results."
   ]
  },
  {
   "cell_type": "code",
   "execution_count": null,
   "metadata": {},
   "outputs": [],
   "source": []
  },
  {
   "cell_type": "markdown",
   "metadata": {},
   "source": [
    "5. Add data augmentation: \n",
    "    - Random flip\n",
    "    - Random contrast\n",
    "    - Random translation"
   ]
  },
  {
   "cell_type": "code",
   "execution_count": null,
   "metadata": {},
   "outputs": [],
   "source": [
    "def custom_preprocessing(image):\n",
    "    # Generate a random contrast factor\n",
    "    contrast_factor = np.random.uniform(0.8, 1.2)\n",
    "    # Apply contrast adjustment\n",
    "    image = image * contrast_factor\n",
    "    image = tf.clip_by_value(image, 0.0, 1.0)  # Clip values to the [0, 1] range\n",
    "    return image"
   ]
  },
  {
   "cell_type": "code",
   "execution_count": null,
   "metadata": {},
   "outputs": [],
   "source": [
    "# Define parameters for the loader\n",
    "batch_size = 10\n",
    "img_height = 224\n",
    "img_width = 224\n",
    "\n",
    "# Load the training data\n",
    "train_datagen = ImageDataGenerator(\n",
    "        rescale=1. / 255,\n",
    "        validation_split=0.3,\n",
    "        horizontal_flip=True,  # Apply random flip\n",
    "        vertical_flip=True,  # Apply random flip\n",
    "        width_shift_range=0.2,  # Apply random translation\n",
    "        height_shift_range=0.2,  # Apply random translation\n",
    "        preprocessing_function=custom_preprocessing # Apply random contrast\n",
    ")\n",
    "\n",
    "train_generator = train_datagen.flow_from_directory(\n",
    "    base_dir,\n",
    "    target_size=(img_height, img_width),\n",
    "    batch_size=batch_size,\n",
    "    class_mode='categorical',\n",
    "    subset='training')  # set as training data\n",
    "\n",
    "# Load the validation data\n",
    "validation_generator = train_datagen.flow_from_directory(\n",
    "    base_dir,\n",
    "    target_size=(img_height, img_width),\n",
    "    batch_size=batch_size,\n",
    "    class_mode='categorical',\n",
    "    subset='validation')  # set as validation data"
   ]
  },
  {
   "cell_type": "markdown",
   "metadata": {},
   "source": [
    "#### Train both models again"
   ]
  },
  {
   "cell_type": "code",
   "execution_count": null,
   "metadata": {},
   "outputs": [],
   "source": [
    "# Load a VGG19 model with random initialized weights\n",
    "base_model = VGG19(weights=None, include_top=False, input_shape=(img_height, img_width, 3))\n",
    "\n",
    "# Create a new model\n",
    "plain_model = Sequential()\n",
    "# Add the base model as the first layer\n",
    "plain_model.add(base_model)\n",
    "# Flatten the output of the base model\n",
    "plain_model.add(Flatten())\n",
    "# Add the final output layer with softmax activation\n",
    "plain_model.add(Dense(len(classes), activation='softmax'))\n",
    "\n",
    "# Compile the model\n",
    "plain_model.compile(optimizer='adam', loss='categorical_crossentropy', metrics=['accuracy'])\n",
    "\n",
    "# Train the model\n",
    "plain_history = plain_model.fit(\n",
    "    train_generator,\n",
    "    validation_data=validation_generator,\n",
    "    epochs=10)\n",
    "\n",
    "plain_model.save(\"plain_model_augmentated_data.h5\")"
   ]
  },
  {
   "cell_type": "code",
   "execution_count": null,
   "metadata": {},
   "outputs": [],
   "source": [
    "# Load a VGG19 model with random initialized weights\n",
    "pre_trained_model = VGG19(weights='imagenet', include_top=False, input_shape=(img_height, img_width, 3))\n",
    "\n",
    "# Create a new model\n",
    "trained_model = Sequential()\n",
    "# Add the base model as the first layer\n",
    "trained_model.add(pre_trained_model)\n",
    "# Flatten the output of the base model\n",
    "trained_model.add(Flatten())\n",
    "# Add the final output layer with softmax activation\n",
    "trained_model.add(Dense(len(classes), activation='softmax'))\n",
    "\n",
    "# Compile the model\n",
    "trained_model.compile(optimizer='adam', loss='categorical_crossentropy', metrics=['accuracy'])\n",
    "\n",
    "# Train the model\n",
    "trained_history  = trained_model.fit(\n",
    "    train_generator,\n",
    "    validation_data=validation_generator,\n",
    "    epochs=10)\n",
    "\n",
    "trained_model.save(\"trained_model_augmentated_data.h5\")"
   ]
  },
  {
   "cell_type": "code",
   "execution_count": null,
   "metadata": {},
   "outputs": [],
   "source": [
    "# Extract loss and accuracy values for both models\n",
    "plain_loss = plain_history.history['loss']\n",
    "plain_accuracy = plain_history.history['accuracy']\n",
    "trained_loss = trained_history.history['loss']\n",
    "trained_accuracy = trained_history.history['accuracy']\n",
    "\n",
    "# Plot the loss curves\n",
    "plt.figure(figsize=(12, 6))\n",
    "plt.plot(range(1, 11), plain_loss, 'b-', label='Plain Model')\n",
    "plt.plot(range(1, 11), trained_loss, 'r-', label='Pre-trained Model')\n",
    "plt.title('Loss Curves')\n",
    "plt.xlabel('Epochs')\n",
    "plt.ylabel('Loss')\n",
    "plt.legend()\n",
    "plt.show()\n",
    "\n",
    "# Plot the accuracy curves\n",
    "plt.figure(figsize=(12, 6))\n",
    "plt.plot(range(1, 11), plain_accuracy, 'b-', label='Plain Model')\n",
    "plt.plot(range(1, 11), trained_accuracy, 'r-', label='Pre-trained Model')\n",
    "plt.title('Accuracy Curves')\n",
    "plt.xlabel('Epochs')\n",
    "plt.ylabel('Accuracy')\n",
    "plt.legend()\n",
    "plt.show()"
   ]
  },
  {
   "cell_type": "markdown",
   "metadata": {},
   "source": [
    "6. Rebuild VGG19. After layer block4_conv4 (25, 25, 512):\n",
    "    - Add inception layer with dimensionality reduction (no of output filters should be 512, choose own values for the filter dimensionality reduction in 1x1 layers)\n",
    "    - Add conv layer (kernel 1x1,  filters 1024, padding valid, stride 1, activation leaky relu)\n",
    "    - Add conv layer (kernel 3x3,  filters 1024, padding same, stride 1, activation relu)\n",
    "    - Freeze conv2 layers and before"
   ]
  },
  {
   "cell_type": "code",
   "execution_count": null,
   "metadata": {},
   "outputs": [],
   "source": [
    "# Load a VGG19 model with random initialized weights\n",
    "base_model = VGG19(weights=None, include_top=False, input_shape=(img_height, img_width, 3))\n",
    "\n",
    "# Create a new model\n",
    "plain_model = Sequential()\n",
    "\n",
    "# Add layers until block4_conv4\n",
    "for layer in base_model.layers:\n",
    "    plain_model.add(layer)\n",
    "    if layer.name == 'block4_conv4':\n",
    "        break\n",
    "\n",
    "# Freeze the layers before block2_conv2\n",
    "freeze = True\n",
    "for layer in plain_model.layers:\n",
    "    if layer.name == 'block2_conv2':\n",
    "        freeze = False\n",
    "    layer.trainable = not freeze\n",
    "\n",
    "# Add the inception layer with dimensionality reduction\n",
    "plain_model.add(Conv2D(512, (1, 1), activation='relu'))\n",
    "plain_model.add(Conv2D(256, (1, 1), activation='relu'))\n",
    "plain_model.add(Conv2D(512, (3, 3), padding='same', activation='relu'))\n",
    "\n",
    "# Add the conv layer with kernel 1x1, filters 1024, padding valid, stride 1, activation leaky relu\n",
    "plain_model.add(Conv2D(1024, (1, 1), padding='valid', strides=1, activation=LeakyReLU(alpha=0.1)))\n",
    "\n",
    "# Add the conv layer with kernel 3x3, filters 1024, padding same, stride 1, activation relu\n",
    "plain_model.add(Conv2D(1024, (3, 3), padding='same', strides=1, activation='relu'))\n",
    "\n",
    "# Flatten the output of the last added layer\n",
    "plain_model.add(Flatten())\n",
    "\n",
    "# Add the final output layer with softmax activation\n",
    "plain_model.add(Dense(len(classes), activation='softmax'))\n",
    "\n",
    "# Compile the model\n",
    "plain_model.compile(optimizer='adam', loss='categorical_crossentropy', metrics=['accuracy'])\n",
    "\n",
    "# Train the model\n",
    "plain_history = plain_model.fit(\n",
    "    train_generator,\n",
    "    validation_data=validation_generator,\n",
    "    epochs=10)\n",
    "\n",
    "plain_model.save(\"plain_Rebuild_VGG19_model_augmentated_data.h5\")"
   ]
  },
  {
   "cell_type": "code",
   "execution_count": null,
   "metadata": {},
   "outputs": [],
   "source": [
    "# Load a VGG19 model with random initialized weights\n",
    "pre_trained_model = VGG19(weights='imagenet', include_top=False, input_shape=(img_height, img_width, 3))\n",
    "\n",
    "# Create a new model\n",
    "trained_model = Sequential()\n",
    "\n",
    "# Add layers until block4_conv4\n",
    "for layer in pre_trained_model.layers:\n",
    "    trained_model.add(layer)\n",
    "    if layer.name == 'block4_conv4':\n",
    "        break\n",
    "\n",
    "# Freeze the layers before block2_conv2\n",
    "freeze = True\n",
    "for layer in trained_model.layers:\n",
    "    if layer.name == 'block2_conv2':\n",
    "        freeze = False\n",
    "    layer.trainable = not freeze\n",
    "\n",
    "# Add the inception layer with dimensionality reduction\n",
    "trained_model.add(Conv2D(512, (1, 1), activation='relu'))\n",
    "trained_model.add(Conv2D(256, (1, 1), activation='relu'))\n",
    "trained_model.add(Conv2D(512, (3, 3), padding='same', activation='relu'))\n",
    "\n",
    "# Add the conv layer with kernel 1x1, filters 1024, padding valid, stride 1, activation leaky relu\n",
    "trained_model.add(Conv2D(1024, (1, 1), padding='valid', strides=1, activation=LeakyReLU(alpha=0.1)))\n",
    "\n",
    "# Add the conv layer with kernel 3x3, filters 1024, padding same, stride 1, activation relu\n",
    "trained_model.add(Conv2D(1024, (3, 3), padding='same', strides=1, activation='relu'))\n",
    "\n",
    "# Flatten the output of the last added layer\n",
    "trained_model.add(Flatten())\n",
    "\n",
    "# Add the final output layer with softmax activation\n",
    "trained_model.add(Dense(len(classes), activation='softmax'))\n",
    "\n",
    "# Compile the model\n",
    "trained_model.compile(optimizer='adam', loss='categorical_crossentropy', metrics=['accuracy'])\n",
    "\n",
    "# Train the model\n",
    "trained_history  = trained_model.fit(\n",
    "    train_generator,\n",
    "    validation_data=validation_generator,\n",
    "    epochs=10)\n",
    "\n",
    "trained_model.save(\"trained_Rebuild_VGG19_model_augmentated_data.h5\")"
   ]
  },
  {
   "cell_type": "code",
   "execution_count": null,
   "metadata": {},
   "outputs": [],
   "source": [
    "# Extract loss and accuracy values for both models\n",
    "plain_loss = plain_history.history['loss']\n",
    "plain_accuracy = plain_history.history['accuracy']\n",
    "trained_loss = trained_history.history['loss']\n",
    "trained_accuracy = trained_history.history['accuracy']\n",
    "\n",
    "# Plot the loss curves\n",
    "plt.figure(figsize=(12, 6))\n",
    "plt.plot(range(1, 11), plain_loss, 'b-', label='Plain Model')\n",
    "plt.plot(range(1, 11), trained_loss, 'r-', label='Pre-trained Model')\n",
    "plt.title('Loss Curves')\n",
    "plt.xlabel('Epochs')\n",
    "plt.ylabel('Loss')\n",
    "plt.legend()\n",
    "plt.show()\n",
    "\n",
    "# Plot the accuracy curves\n",
    "plt.figure(figsize=(12, 6))\n",
    "plt.plot(range(1, 11), plain_accuracy, 'b-', label='Plain Model')\n",
    "plt.plot(range(1, 11), trained_accuracy, 'r-', label='Pre-trained Model')\n",
    "plt.title('Accuracy Curves')\n",
    "plt.xlabel('Epochs')\n",
    "plt.ylabel('Accuracy')\n",
    "plt.legend()\n",
    "plt.show()"
   ]
  },
  {
   "cell_type": "markdown",
   "metadata": {},
   "source": [
    "7. Test a few of your own images and present the results"
   ]
  },
  {
   "cell_type": "code",
   "execution_count": null,
   "metadata": {},
   "outputs": [],
   "source": []
  },
  {
   "cell_type": "markdown",
   "metadata": {},
   "source": [
    "8. Answer the following questions:\n",
    "    - What accuracy can be achieved? What is the accuracy of the train vs. test set?\n",
    "    - On what infrastructure did you train it? What is the inference time?\n",
    "    - What are the number of parameters of the model?\n",
    "    - Which categories are most likely to be confused by the algorithm? Show results in a confusion matrix."
   ]
  }
 ],
 "metadata": {
  "kernelspec": {
   "display_name": "Python 3 (ipykernel)",
   "language": "python",
   "name": "python3"
  },
  "language_info": {
   "codemirror_mode": {
    "name": "ipython",
    "version": 3
   },
   "file_extension": ".py",
   "mimetype": "text/x-python",
   "name": "python",
   "nbconvert_exporter": "python",
   "pygments_lexer": "ipython3",
   "version": "3.9.13"
  }
 },
 "nbformat": 4,
 "nbformat_minor": 1
}
