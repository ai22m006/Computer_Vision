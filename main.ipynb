{
 "cells": [
  {
   "cell_type": "code",
   "execution_count": 44,
   "outputs": [
    {
     "name": "stdout",
     "output_type": "stream",
     "text": [
      "cat, dog, person\n"
     ]
    }
   ],
   "source": [
    "# Image Classification Project 6\n",
    "# Choose three classes from the Open Images Dataset. Train a neural net that is able to classify images into these three categories.\n",
    "\n",
    "print(\"cat, dog, person\")\n",
    "\n",
    "import fiftyone as fo\n",
    "import fiftyone.zoo as foz\n",
    "\n"
   ],
   "metadata": {
    "collapsed": false,
    "ExecuteTime": {
     "end_time": "2023-05-31T18:00:49.430687Z",
     "start_time": "2023-05-31T18:00:49.414135300Z"
    }
   }
  },
  {
   "cell_type": "code",
   "execution_count": 45,
   "outputs": [
    {
     "name": "stdout",
     "output_type": "stream",
     "text": [
      "Downloading split 'validation' to 'C:\\Users\\a760660\\fiftyone\\open-images-v7\\validation' if necessary\n",
      "Found 1000 images, downloading the remaining 2000\n",
      "   6% |█/---------------|  121/2000 [9.4s elapsed, 2.4m remaining, 11.7 files/s]    \n"
     ]
    },
    {
     "ename": "KeyboardInterrupt",
     "evalue": "",
     "output_type": "error",
     "traceback": [
      "\u001B[1;31m---------------------------------------------------------------------------\u001B[0m",
      "\u001B[1;31mIndexError\u001B[0m                                Traceback (most recent call last)",
      "File \u001B[1;32mC:\\Program Files\\WindowsApps\\PythonSoftwareFoundation.Python.3.11_3.11.1008.0_x64__qbz5n2kfra8p0\\Lib\\multiprocessing\\pool.py:856\u001B[0m, in \u001B[0;36mIMapIterator.next\u001B[1;34m(self, timeout)\u001B[0m\n\u001B[0;32m    855\u001B[0m \u001B[38;5;28;01mtry\u001B[39;00m:\n\u001B[1;32m--> 856\u001B[0m     item \u001B[38;5;241m=\u001B[39m \u001B[38;5;28mself\u001B[39m\u001B[38;5;241m.\u001B[39m_items\u001B[38;5;241m.\u001B[39mpopleft()\n\u001B[0;32m    857\u001B[0m \u001B[38;5;28;01mexcept\u001B[39;00m \u001B[38;5;167;01mIndexError\u001B[39;00m:\n",
      "\u001B[1;31mIndexError\u001B[0m: pop from an empty deque",
      "\nDuring handling of the above exception, another exception occurred:\n",
      "\u001B[1;31mKeyboardInterrupt\u001B[0m                         Traceback (most recent call last)",
      "Cell \u001B[1;32mIn[45], line 5\u001B[0m\n\u001B[0;32m      1\u001B[0m \u001B[38;5;66;03m# Dataset\u001B[39;00m\n\u001B[0;32m      2\u001B[0m \u001B[38;5;66;03m# https://storage.googleapis.com/openimages/web/visualizer/index.html?type=detection\u001B[39;00m\n\u001B[0;32m      3\u001B[0m \n\u001B[0;32m      4\u001B[0m \u001B[38;5;66;03m# Load a dataset\u001B[39;00m\n\u001B[1;32m----> 5\u001B[0m dataset \u001B[38;5;241m=\u001B[39m \u001B[43mfoz\u001B[49m\u001B[38;5;241;43m.\u001B[39;49m\u001B[43mload_zoo_dataset\u001B[49m\u001B[43m(\u001B[49m\n\u001B[0;32m      6\u001B[0m \u001B[43m    \u001B[49m\u001B[38;5;124;43m\"\u001B[39;49m\u001B[38;5;124;43mopen-images-v7\u001B[39;49m\u001B[38;5;124;43m\"\u001B[39;49m\u001B[43m,\u001B[49m\n\u001B[0;32m      7\u001B[0m \u001B[43m    \u001B[49m\u001B[43msplit\u001B[49m\u001B[38;5;241;43m=\u001B[39;49m\u001B[38;5;124;43m\"\u001B[39;49m\u001B[38;5;124;43mvalidation\u001B[39;49m\u001B[38;5;124;43m\"\u001B[39;49m\u001B[43m,\u001B[49m\n\u001B[0;32m      8\u001B[0m \u001B[43m    \u001B[49m\u001B[43mlabel_types\u001B[49m\u001B[38;5;241;43m=\u001B[39;49m\u001B[43m[\u001B[49m\u001B[38;5;124;43m\"\u001B[39;49m\u001B[38;5;124;43mdetections\u001B[39;49m\u001B[38;5;124;43m\"\u001B[39;49m\u001B[43m,\u001B[49m\u001B[43m \u001B[49m\u001B[38;5;124;43m\"\u001B[39;49m\u001B[38;5;124;43mclassifications\u001B[39;49m\u001B[38;5;124;43m\"\u001B[39;49m\u001B[43m]\u001B[49m\u001B[43m,\u001B[49m\n\u001B[0;32m      9\u001B[0m \u001B[43m    \u001B[49m\u001B[43mclasses\u001B[49m\u001B[38;5;241;43m=\u001B[39;49m\u001B[43m[\u001B[49m\u001B[38;5;124;43m\"\u001B[39;49m\u001B[38;5;124;43mCat\u001B[39;49m\u001B[38;5;124;43m\"\u001B[39;49m\u001B[43m,\u001B[49m\u001B[43m \u001B[49m\u001B[38;5;124;43m\"\u001B[39;49m\u001B[38;5;124;43mDog\u001B[39;49m\u001B[38;5;124;43m\"\u001B[39;49m\u001B[43m,\u001B[49m\u001B[43m \u001B[49m\u001B[38;5;124;43m\"\u001B[39;49m\u001B[38;5;124;43mPerson\u001B[39;49m\u001B[38;5;124;43m\"\u001B[39;49m\u001B[43m]\u001B[49m\u001B[43m,\u001B[49m\n\u001B[0;32m     10\u001B[0m \u001B[43m    \u001B[49m\u001B[43mmax_samples\u001B[49m\u001B[38;5;241;43m=\u001B[39;49m\u001B[38;5;241;43m3000\u001B[39;49m\u001B[43m,\u001B[49m\n\u001B[0;32m     11\u001B[0m \u001B[43m    \u001B[49m\u001B[43mdataset_name\u001B[49m\u001B[38;5;241;43m=\u001B[39;49m\u001B[38;5;124;43m\"\u001B[39;49m\u001B[38;5;124;43mcats_dogs_persons\u001B[39;49m\u001B[38;5;124;43m\"\u001B[39;49m\n\u001B[0;32m     12\u001B[0m \u001B[43m)\u001B[49m\n\u001B[0;32m     14\u001B[0m session \u001B[38;5;241m=\u001B[39m fo\u001B[38;5;241m.\u001B[39mlaunch_app(dataset)\n",
      "File \u001B[1;32mC:\\dev\\priv\\Computer_Vision\\venv\\Lib\\site-packages\\fiftyone\\zoo\\datasets\\__init__.py:251\u001B[0m, in \u001B[0;36mload_zoo_dataset\u001B[1;34m(name, split, splits, label_field, dataset_name, dataset_dir, download_if_necessary, drop_existing_dataset, overwrite, cleanup, **kwargs)\u001B[0m\n\u001B[0;32m    246\u001B[0m     zoo_dataset_cls \u001B[38;5;241m=\u001B[39m _get_zoo_dataset_cls(name)\n\u001B[0;32m    247\u001B[0m     download_kwargs, _ \u001B[38;5;241m=\u001B[39m fou\u001B[38;5;241m.\u001B[39mextract_kwargs_for_class(\n\u001B[0;32m    248\u001B[0m         zoo_dataset_cls, kwargs\n\u001B[0;32m    249\u001B[0m     )\n\u001B[1;32m--> 251\u001B[0m     info, dataset_dir \u001B[38;5;241m=\u001B[39m \u001B[43mdownload_zoo_dataset\u001B[49m\u001B[43m(\u001B[49m\n\u001B[0;32m    252\u001B[0m \u001B[43m        \u001B[49m\u001B[43mname\u001B[49m\u001B[43m,\u001B[49m\n\u001B[0;32m    253\u001B[0m \u001B[43m        \u001B[49m\u001B[43msplits\u001B[49m\u001B[38;5;241;43m=\u001B[39;49m\u001B[43msplits\u001B[49m\u001B[43m,\u001B[49m\n\u001B[0;32m    254\u001B[0m \u001B[43m        \u001B[49m\u001B[43mdataset_dir\u001B[49m\u001B[38;5;241;43m=\u001B[39;49m\u001B[43mdataset_dir\u001B[49m\u001B[43m,\u001B[49m\n\u001B[0;32m    255\u001B[0m \u001B[43m        \u001B[49m\u001B[43moverwrite\u001B[49m\u001B[38;5;241;43m=\u001B[39;49m\u001B[43moverwrite\u001B[49m\u001B[43m,\u001B[49m\n\u001B[0;32m    256\u001B[0m \u001B[43m        \u001B[49m\u001B[43mcleanup\u001B[49m\u001B[38;5;241;43m=\u001B[39;49m\u001B[43mcleanup\u001B[49m\u001B[43m,\u001B[49m\n\u001B[0;32m    257\u001B[0m \u001B[43m        \u001B[49m\u001B[38;5;241;43m*\u001B[39;49m\u001B[38;5;241;43m*\u001B[39;49m\u001B[43mdownload_kwargs\u001B[49m\u001B[43m,\u001B[49m\n\u001B[0;32m    258\u001B[0m \u001B[43m    \u001B[49m\u001B[43m)\u001B[49m\n\u001B[0;32m    259\u001B[0m     zoo_dataset \u001B[38;5;241m=\u001B[39m info\u001B[38;5;241m.\u001B[39mget_zoo_dataset()\n\u001B[0;32m    260\u001B[0m \u001B[38;5;28;01melse\u001B[39;00m:\n",
      "File \u001B[1;32mC:\\dev\\priv\\Computer_Vision\\venv\\Lib\\site-packages\\fiftyone\\zoo\\datasets\\__init__.py:170\u001B[0m, in \u001B[0;36mdownload_zoo_dataset\u001B[1;34m(name, split, splits, dataset_dir, overwrite, cleanup, **kwargs)\u001B[0m\n\u001B[0;32m    135\u001B[0m \u001B[38;5;250m\u001B[39m\u001B[38;5;124;03m\"\"\"Downloads the dataset of the given name from the FiftyOne Dataset Zoo.\u001B[39;00m\n\u001B[0;32m    136\u001B[0m \n\u001B[0;32m    137\u001B[0m \u001B[38;5;124;03mAny dataset splits that already exist in the specified directory are not\u001B[39;00m\n\u001B[1;32m   (...)\u001B[0m\n\u001B[0;32m    165\u001B[0m \u001B[38;5;124;03m    -   dataset_dir: the directory containing the dataset\u001B[39;00m\n\u001B[0;32m    166\u001B[0m \u001B[38;5;124;03m\"\"\"\u001B[39;00m\n\u001B[0;32m    167\u001B[0m zoo_dataset, dataset_dir \u001B[38;5;241m=\u001B[39m _parse_dataset_details(\n\u001B[0;32m    168\u001B[0m     name, dataset_dir, \u001B[38;5;241m*\u001B[39m\u001B[38;5;241m*\u001B[39mkwargs\n\u001B[0;32m    169\u001B[0m )\n\u001B[1;32m--> 170\u001B[0m \u001B[38;5;28;01mreturn\u001B[39;00m \u001B[43mzoo_dataset\u001B[49m\u001B[38;5;241;43m.\u001B[39;49m\u001B[43mdownload_and_prepare\u001B[49m\u001B[43m(\u001B[49m\n\u001B[0;32m    171\u001B[0m \u001B[43m    \u001B[49m\u001B[43mdataset_dir\u001B[49m\u001B[38;5;241;43m=\u001B[39;49m\u001B[43mdataset_dir\u001B[49m\u001B[43m,\u001B[49m\n\u001B[0;32m    172\u001B[0m \u001B[43m    \u001B[49m\u001B[43msplit\u001B[49m\u001B[38;5;241;43m=\u001B[39;49m\u001B[43msplit\u001B[49m\u001B[43m,\u001B[49m\n\u001B[0;32m    173\u001B[0m \u001B[43m    \u001B[49m\u001B[43msplits\u001B[49m\u001B[38;5;241;43m=\u001B[39;49m\u001B[43msplits\u001B[49m\u001B[43m,\u001B[49m\n\u001B[0;32m    174\u001B[0m \u001B[43m    \u001B[49m\u001B[43moverwrite\u001B[49m\u001B[38;5;241;43m=\u001B[39;49m\u001B[43moverwrite\u001B[49m\u001B[43m,\u001B[49m\n\u001B[0;32m    175\u001B[0m \u001B[43m    \u001B[49m\u001B[43mcleanup\u001B[49m\u001B[38;5;241;43m=\u001B[39;49m\u001B[43mcleanup\u001B[49m\u001B[43m,\u001B[49m\n\u001B[0;32m    176\u001B[0m \u001B[43m\u001B[49m\u001B[43m)\u001B[49m\n",
      "File \u001B[1;32mC:\\dev\\priv\\Computer_Vision\\venv\\Lib\\site-packages\\fiftyone\\zoo\\datasets\\__init__.py:1076\u001B[0m, in \u001B[0;36mZooDataset.download_and_prepare\u001B[1;34m(self, dataset_dir, split, splits, overwrite, cleanup)\u001B[0m\n\u001B[0;32m   1064\u001B[0m \u001B[38;5;28;01melse\u001B[39;00m:\n\u001B[0;32m   1065\u001B[0m     logger\u001B[38;5;241m.\u001B[39minfo(\n\u001B[0;32m   1066\u001B[0m         \u001B[38;5;124m\"\u001B[39m\u001B[38;5;124mDownloading split \u001B[39m\u001B[38;5;124m'\u001B[39m\u001B[38;5;132;01m%s\u001B[39;00m\u001B[38;5;124m'\u001B[39m\u001B[38;5;124m to \u001B[39m\u001B[38;5;124m'\u001B[39m\u001B[38;5;132;01m%s\u001B[39;00m\u001B[38;5;124m'\u001B[39m\u001B[38;5;132;01m%s\u001B[39;00m\u001B[38;5;124m\"\u001B[39m,\n\u001B[0;32m   1067\u001B[0m         split,\n\u001B[0;32m   1068\u001B[0m         split_dir,\n\u001B[0;32m   1069\u001B[0m         suffix,\n\u001B[0;32m   1070\u001B[0m     )\n\u001B[0;32m   1072\u001B[0m (\n\u001B[0;32m   1073\u001B[0m     dataset_type,\n\u001B[0;32m   1074\u001B[0m     num_samples,\n\u001B[0;32m   1075\u001B[0m     classes,\n\u001B[1;32m-> 1076\u001B[0m ) \u001B[38;5;241m=\u001B[39m \u001B[38;5;28;43mself\u001B[39;49m\u001B[38;5;241;43m.\u001B[39;49m\u001B[43m_download_and_prepare\u001B[49m\u001B[43m(\u001B[49m\u001B[43msplit_dir\u001B[49m\u001B[43m,\u001B[49m\u001B[43m \u001B[49m\u001B[43mscratch_dir\u001B[49m\u001B[43m,\u001B[49m\u001B[43m \u001B[49m\u001B[43msplit\u001B[49m\u001B[43m)\u001B[49m\n\u001B[0;32m   1078\u001B[0m \u001B[38;5;66;03m# Add split to ZooDatasetInfo\u001B[39;00m\n\u001B[0;32m   1079\u001B[0m \u001B[38;5;28;01mif\u001B[39;00m info \u001B[38;5;129;01mis\u001B[39;00m \u001B[38;5;28;01mNone\u001B[39;00m:\n",
      "File \u001B[1;32mC:\\dev\\priv\\Computer_Vision\\venv\\Lib\\site-packages\\fiftyone\\zoo\\datasets\\base.py:2685\u001B[0m, in \u001B[0;36mOpenImagesV7Dataset._download_and_prepare\u001B[1;34m(self, dataset_dir, _, split)\u001B[0m\n\u001B[0;32m   2684\u001B[0m \u001B[38;5;28;01mdef\u001B[39;00m \u001B[38;5;21m_download_and_prepare\u001B[39m(\u001B[38;5;28mself\u001B[39m, dataset_dir, _, split):\n\u001B[1;32m-> 2685\u001B[0m     num_samples, classes, downloaded \u001B[38;5;241m=\u001B[39m \u001B[43mfouo\u001B[49m\u001B[38;5;241;43m.\u001B[39;49m\u001B[43mdownload_open_images_split\u001B[49m\u001B[43m(\u001B[49m\n\u001B[0;32m   2686\u001B[0m \u001B[43m        \u001B[49m\u001B[43mdataset_dir\u001B[49m\u001B[43m,\u001B[49m\n\u001B[0;32m   2687\u001B[0m \u001B[43m        \u001B[49m\u001B[43msplit\u001B[49m\u001B[43m,\u001B[49m\n\u001B[0;32m   2688\u001B[0m \u001B[43m        \u001B[49m\u001B[43mlabel_types\u001B[49m\u001B[38;5;241;43m=\u001B[39;49m\u001B[38;5;28;43mself\u001B[39;49m\u001B[38;5;241;43m.\u001B[39;49m\u001B[43mlabel_types\u001B[49m\u001B[43m,\u001B[49m\n\u001B[0;32m   2689\u001B[0m \u001B[43m        \u001B[49m\u001B[43mclasses\u001B[49m\u001B[38;5;241;43m=\u001B[39;49m\u001B[38;5;28;43mself\u001B[39;49m\u001B[38;5;241;43m.\u001B[39;49m\u001B[43mclasses\u001B[49m\u001B[43m,\u001B[49m\n\u001B[0;32m   2690\u001B[0m \u001B[43m        \u001B[49m\u001B[43mattrs\u001B[49m\u001B[38;5;241;43m=\u001B[39;49m\u001B[38;5;28;43mself\u001B[39;49m\u001B[38;5;241;43m.\u001B[39;49m\u001B[43mattrs\u001B[49m\u001B[43m,\u001B[49m\n\u001B[0;32m   2691\u001B[0m \u001B[43m        \u001B[49m\u001B[43mimage_ids\u001B[49m\u001B[38;5;241;43m=\u001B[39;49m\u001B[38;5;28;43mself\u001B[39;49m\u001B[38;5;241;43m.\u001B[39;49m\u001B[43mimage_ids\u001B[49m\u001B[43m,\u001B[49m\n\u001B[0;32m   2692\u001B[0m \u001B[43m        \u001B[49m\u001B[43mnum_workers\u001B[49m\u001B[38;5;241;43m=\u001B[39;49m\u001B[38;5;28;43mself\u001B[39;49m\u001B[38;5;241;43m.\u001B[39;49m\u001B[43mnum_workers\u001B[49m\u001B[43m,\u001B[49m\n\u001B[0;32m   2693\u001B[0m \u001B[43m        \u001B[49m\u001B[43mshuffle\u001B[49m\u001B[38;5;241;43m=\u001B[39;49m\u001B[38;5;28;43mself\u001B[39;49m\u001B[38;5;241;43m.\u001B[39;49m\u001B[43mshuffle\u001B[49m\u001B[43m,\u001B[49m\n\u001B[0;32m   2694\u001B[0m \u001B[43m        \u001B[49m\u001B[43mseed\u001B[49m\u001B[38;5;241;43m=\u001B[39;49m\u001B[38;5;28;43mself\u001B[39;49m\u001B[38;5;241;43m.\u001B[39;49m\u001B[43mseed\u001B[49m\u001B[43m,\u001B[49m\n\u001B[0;32m   2695\u001B[0m \u001B[43m        \u001B[49m\u001B[43mmax_samples\u001B[49m\u001B[38;5;241;43m=\u001B[39;49m\u001B[38;5;28;43mself\u001B[39;49m\u001B[38;5;241;43m.\u001B[39;49m\u001B[43mmax_samples\u001B[49m\u001B[43m,\u001B[49m\n\u001B[0;32m   2696\u001B[0m \u001B[43m        \u001B[49m\u001B[43mversion\u001B[49m\u001B[38;5;241;43m=\u001B[39;49m\u001B[38;5;124;43m\"\u001B[39;49m\u001B[38;5;124;43mv7\u001B[39;49m\u001B[38;5;124;43m\"\u001B[39;49m\u001B[43m,\u001B[49m\n\u001B[0;32m   2697\u001B[0m \u001B[43m    \u001B[49m\u001B[43m)\u001B[49m\n\u001B[0;32m   2699\u001B[0m     dataset_type \u001B[38;5;241m=\u001B[39m fot\u001B[38;5;241m.\u001B[39mOpenImagesV7Dataset()\n\u001B[0;32m   2701\u001B[0m     \u001B[38;5;28;01mif\u001B[39;00m \u001B[38;5;129;01mnot\u001B[39;00m downloaded:\n",
      "File \u001B[1;32mC:\\dev\\priv\\Computer_Vision\\venv\\Lib\\site-packages\\fiftyone\\utils\\openimages.py:795\u001B[0m, in \u001B[0;36mdownload_open_images_split\u001B[1;34m(dataset_dir, split, version, label_types, classes, attrs, image_ids, num_workers, shuffle, seed, max_samples)\u001B[0m\n\u001B[0;32m    790\u001B[0m _, _did_download \u001B[38;5;241m=\u001B[39m _get_hierarchy(\n\u001B[0;32m    791\u001B[0m     dataset_dir, classes_map\u001B[38;5;241m=\u001B[39mclasses_map, download\u001B[38;5;241m=\u001B[39m\u001B[38;5;28;01mTrue\u001B[39;00m\n\u001B[0;32m    792\u001B[0m )\n\u001B[0;32m    793\u001B[0m did_download \u001B[38;5;241m|\u001B[39m\u001B[38;5;241m=\u001B[39m _did_download\n\u001B[1;32m--> 795\u001B[0m num_samples, _did_download \u001B[38;5;241m=\u001B[39m \u001B[43m_download\u001B[49m\u001B[43m(\u001B[49m\n\u001B[0;32m    796\u001B[0m \u001B[43m    \u001B[49m\u001B[43mimage_ids\u001B[49m\u001B[43m,\u001B[49m\n\u001B[0;32m    797\u001B[0m \u001B[43m    \u001B[49m\u001B[43mdownloaded_ids\u001B[49m\u001B[43m,\u001B[49m\n\u001B[0;32m    798\u001B[0m \u001B[43m    \u001B[49m\u001B[43moi_classes\u001B[49m\u001B[43m,\u001B[49m\n\u001B[0;32m    799\u001B[0m \u001B[43m    \u001B[49m\u001B[43moi_attrs\u001B[49m\u001B[43m,\u001B[49m\n\u001B[0;32m    800\u001B[0m \u001B[43m    \u001B[49m\u001B[43mseg_classes\u001B[49m\u001B[43m,\u001B[49m\n\u001B[0;32m    801\u001B[0m \u001B[43m    \u001B[49m\u001B[43mpnt_classes_map\u001B[49m\u001B[43m,\u001B[49m\n\u001B[0;32m    802\u001B[0m \u001B[43m    \u001B[49m\u001B[43mdataset_dir\u001B[49m\u001B[43m,\u001B[49m\n\u001B[0;32m    803\u001B[0m \u001B[43m    \u001B[49m\u001B[43msplit\u001B[49m\u001B[43m,\u001B[49m\n\u001B[0;32m    804\u001B[0m \u001B[43m    \u001B[49m\u001B[43mlabel_types\u001B[49m\u001B[38;5;241;43m=\u001B[39;49m\u001B[43mlabel_types\u001B[49m\u001B[43m,\u001B[49m\n\u001B[0;32m    805\u001B[0m \u001B[43m    \u001B[49m\u001B[43mclasses\u001B[49m\u001B[38;5;241;43m=\u001B[39;49m\u001B[43mclasses\u001B[49m\u001B[43m,\u001B[49m\n\u001B[0;32m    806\u001B[0m \u001B[43m    \u001B[49m\u001B[43mattrs\u001B[49m\u001B[38;5;241;43m=\u001B[39;49m\u001B[43mattrs\u001B[49m\u001B[43m,\u001B[49m\n\u001B[0;32m    807\u001B[0m \u001B[43m    \u001B[49m\u001B[43mmax_samples\u001B[49m\u001B[38;5;241;43m=\u001B[39;49m\u001B[43mmax_samples\u001B[49m\u001B[43m,\u001B[49m\n\u001B[0;32m    808\u001B[0m \u001B[43m    \u001B[49m\u001B[43mshuffle\u001B[49m\u001B[38;5;241;43m=\u001B[39;49m\u001B[43mshuffle\u001B[49m\u001B[43m,\u001B[49m\n\u001B[0;32m    809\u001B[0m \u001B[43m    \u001B[49m\u001B[43mnum_workers\u001B[49m\u001B[38;5;241;43m=\u001B[39;49m\u001B[43mnum_workers\u001B[49m\u001B[43m,\u001B[49m\n\u001B[0;32m    810\u001B[0m \u001B[43m    \u001B[49m\u001B[43mdownload\u001B[49m\u001B[38;5;241;43m=\u001B[39;49m\u001B[38;5;28;43;01mTrue\u001B[39;49;00m\u001B[43m,\u001B[49m\n\u001B[0;32m    811\u001B[0m \u001B[43m    \u001B[49m\u001B[43mversion\u001B[49m\u001B[38;5;241;43m=\u001B[39;49m\u001B[43mversion\u001B[49m\u001B[43m,\u001B[49m\n\u001B[0;32m    812\u001B[0m \u001B[43m\u001B[49m\u001B[43m)\u001B[49m\n\u001B[0;32m    814\u001B[0m did_download \u001B[38;5;241m|\u001B[39m\u001B[38;5;241m=\u001B[39m _did_download\n\u001B[0;32m    816\u001B[0m \u001B[38;5;28;01mreturn\u001B[39;00m num_samples, all_classes, did_download\n",
      "File \u001B[1;32mC:\\dev\\priv\\Computer_Vision\\venv\\Lib\\site-packages\\fiftyone\\utils\\openimages.py:1615\u001B[0m, in \u001B[0;36m_download\u001B[1;34m(image_ids, downloaded_ids, oi_classes, oi_attrs, seg_classes, pnt_classes, dataset_dir, split, label_types, classes, attrs, max_samples, shuffle, num_workers, download, version)\u001B[0m\n\u001B[0;32m   1611\u001B[0m     _did_download \u001B[38;5;241m=\u001B[39m _download_masks_if_necessary(\n\u001B[0;32m   1612\u001B[0m         all_ids, dataset_dir, split, download\u001B[38;5;241m=\u001B[39mdownload\n\u001B[0;32m   1613\u001B[0m     )\n\u001B[0;32m   1614\u001B[0m     did_download \u001B[38;5;241m|\u001B[39m\u001B[38;5;241m=\u001B[39m _did_download\n\u001B[1;32m-> 1615\u001B[0m num_downloaded \u001B[38;5;241m=\u001B[39m \u001B[43m_download_images_if_necessary\u001B[49m\u001B[43m(\u001B[49m\n\u001B[0;32m   1616\u001B[0m \u001B[43m    \u001B[49m\u001B[43mtarget_ids\u001B[49m\u001B[43m,\u001B[49m\n\u001B[0;32m   1617\u001B[0m \u001B[43m    \u001B[49m\u001B[43msplit\u001B[49m\u001B[43m,\u001B[49m\n\u001B[0;32m   1618\u001B[0m \u001B[43m    \u001B[49m\u001B[43mdataset_dir\u001B[49m\u001B[43m,\u001B[49m\n\u001B[0;32m   1619\u001B[0m \u001B[43m    \u001B[49m\u001B[43mnum_workers\u001B[49m\u001B[38;5;241;43m=\u001B[39;49m\u001B[43mnum_workers\u001B[49m\u001B[43m,\u001B[49m\n\u001B[0;32m   1620\u001B[0m \u001B[43m    \u001B[49m\u001B[43mdownload\u001B[49m\u001B[38;5;241;43m=\u001B[39;49m\u001B[43mdownload\u001B[49m\u001B[43m,\u001B[49m\n\u001B[0;32m   1621\u001B[0m \u001B[43m\u001B[49m\u001B[43m)\u001B[49m\n\u001B[0;32m   1623\u001B[0m \u001B[38;5;28;01mif\u001B[39;00m num_downloaded \u001B[38;5;241m>\u001B[39m \u001B[38;5;241m0\u001B[39m:\n\u001B[0;32m   1624\u001B[0m     did_download \u001B[38;5;241m=\u001B[39m \u001B[38;5;28;01mTrue\u001B[39;00m\n",
      "File \u001B[1;32mC:\\dev\\priv\\Computer_Vision\\venv\\Lib\\site-packages\\fiftyone\\utils\\openimages.py:1958\u001B[0m, in \u001B[0;36m_download_images_if_necessary\u001B[1;34m(image_ids, split, dataset_dir, num_workers, download)\u001B[0m\n\u001B[0;32m   1955\u001B[0m \u001B[38;5;28;01melse\u001B[39;00m:\n\u001B[0;32m   1956\u001B[0m     logger\u001B[38;5;241m.\u001B[39minfo(\u001B[38;5;124m\"\u001B[39m\u001B[38;5;124mDownloading \u001B[39m\u001B[38;5;132;01m%d\u001B[39;00m\u001B[38;5;124m images\u001B[39m\u001B[38;5;124m\"\u001B[39m, num_images)\n\u001B[1;32m-> 1958\u001B[0m \u001B[43mfoua\u001B[49m\u001B[38;5;241;43m.\u001B[39;49m\u001B[43mdownload_public_s3_files\u001B[49m\u001B[43m(\u001B[49m\u001B[43murls\u001B[49m\u001B[43m,\u001B[49m\u001B[43m \u001B[49m\u001B[43mnum_workers\u001B[49m\u001B[38;5;241;43m=\u001B[39;49m\u001B[43mnum_workers\u001B[49m\u001B[43m)\u001B[49m\n\u001B[0;32m   1960\u001B[0m \u001B[38;5;28;01mreturn\u001B[39;00m num_images\n",
      "File \u001B[1;32mC:\\dev\\priv\\Computer_Vision\\venv\\Lib\\site-packages\\fiftyone\\utils\\aws.py:89\u001B[0m, in \u001B[0;36mdownload_public_s3_files\u001B[1;34m(urls, download_dir, num_workers, overwrite)\u001B[0m\n\u001B[0;32m     87\u001B[0m     _single_thread_download(inputs)\n\u001B[0;32m     88\u001B[0m \u001B[38;5;28;01melse\u001B[39;00m:\n\u001B[1;32m---> 89\u001B[0m     \u001B[43m_multi_thread_download\u001B[49m\u001B[43m(\u001B[49m\u001B[43minputs\u001B[49m\u001B[43m,\u001B[49m\u001B[43m \u001B[49m\u001B[43mnum_workers\u001B[49m\u001B[43m)\u001B[49m\n",
      "File \u001B[1;32mC:\\dev\\priv\\Computer_Vision\\venv\\Lib\\site-packages\\fiftyone\\utils\\aws.py:126\u001B[0m, in \u001B[0;36m_multi_thread_download\u001B[1;34m(inputs, num_workers)\u001B[0m\n\u001B[0;32m    124\u001B[0m \u001B[38;5;28;01mwith\u001B[39;00m fou\u001B[38;5;241m.\u001B[39mProgressBar(total\u001B[38;5;241m=\u001B[39m\u001B[38;5;28mlen\u001B[39m(inputs), iters_str\u001B[38;5;241m=\u001B[39m\u001B[38;5;124m\"\u001B[39m\u001B[38;5;124mfiles\u001B[39m\u001B[38;5;124m\"\u001B[39m) \u001B[38;5;28;01mas\u001B[39;00m pb:\n\u001B[0;32m    125\u001B[0m     \u001B[38;5;28;01mwith\u001B[39;00m multiprocessing\u001B[38;5;241m.\u001B[39mdummy\u001B[38;5;241m.\u001B[39mPool(num_workers) \u001B[38;5;28;01mas\u001B[39;00m pool:\n\u001B[1;32m--> 126\u001B[0m         \u001B[38;5;28;01mfor\u001B[39;00m _ \u001B[38;5;129;01min\u001B[39;00m pool\u001B[38;5;241m.\u001B[39mimap_unordered(_do_s3_download, inputs):\n\u001B[0;32m    127\u001B[0m             pb\u001B[38;5;241m.\u001B[39mupdate()\n",
      "File \u001B[1;32mC:\\Program Files\\WindowsApps\\PythonSoftwareFoundation.Python.3.11_3.11.1008.0_x64__qbz5n2kfra8p0\\Lib\\multiprocessing\\pool.py:861\u001B[0m, in \u001B[0;36mIMapIterator.next\u001B[1;34m(self, timeout)\u001B[0m\n\u001B[0;32m    859\u001B[0m     \u001B[38;5;28mself\u001B[39m\u001B[38;5;241m.\u001B[39m_pool \u001B[38;5;241m=\u001B[39m \u001B[38;5;28;01mNone\u001B[39;00m\n\u001B[0;32m    860\u001B[0m     \u001B[38;5;28;01mraise\u001B[39;00m \u001B[38;5;167;01mStopIteration\u001B[39;00m \u001B[38;5;28;01mfrom\u001B[39;00m \u001B[38;5;28;01mNone\u001B[39;00m\n\u001B[1;32m--> 861\u001B[0m \u001B[38;5;28;43mself\u001B[39;49m\u001B[38;5;241;43m.\u001B[39;49m\u001B[43m_cond\u001B[49m\u001B[38;5;241;43m.\u001B[39;49m\u001B[43mwait\u001B[49m\u001B[43m(\u001B[49m\u001B[43mtimeout\u001B[49m\u001B[43m)\u001B[49m\n\u001B[0;32m    862\u001B[0m \u001B[38;5;28;01mtry\u001B[39;00m:\n\u001B[0;32m    863\u001B[0m     item \u001B[38;5;241m=\u001B[39m \u001B[38;5;28mself\u001B[39m\u001B[38;5;241m.\u001B[39m_items\u001B[38;5;241m.\u001B[39mpopleft()\n",
      "File \u001B[1;32mC:\\Program Files\\WindowsApps\\PythonSoftwareFoundation.Python.3.11_3.11.1008.0_x64__qbz5n2kfra8p0\\Lib\\threading.py:320\u001B[0m, in \u001B[0;36mCondition.wait\u001B[1;34m(self, timeout)\u001B[0m\n\u001B[0;32m    318\u001B[0m \u001B[38;5;28;01mtry\u001B[39;00m:    \u001B[38;5;66;03m# restore state no matter what (e.g., KeyboardInterrupt)\u001B[39;00m\n\u001B[0;32m    319\u001B[0m     \u001B[38;5;28;01mif\u001B[39;00m timeout \u001B[38;5;129;01mis\u001B[39;00m \u001B[38;5;28;01mNone\u001B[39;00m:\n\u001B[1;32m--> 320\u001B[0m         \u001B[43mwaiter\u001B[49m\u001B[38;5;241;43m.\u001B[39;49m\u001B[43macquire\u001B[49m\u001B[43m(\u001B[49m\u001B[43m)\u001B[49m\n\u001B[0;32m    321\u001B[0m         gotit \u001B[38;5;241m=\u001B[39m \u001B[38;5;28;01mTrue\u001B[39;00m\n\u001B[0;32m    322\u001B[0m     \u001B[38;5;28;01melse\u001B[39;00m:\n",
      "\u001B[1;31mKeyboardInterrupt\u001B[0m: "
     ]
    }
   ],
   "source": [
    "# Dataset\n",
    "# https://storage.googleapis.com/openimages/web/visualizer/index.html?type=detection\n",
    "\n",
    "# Load a dataset\n",
    "dataset = foz.load_zoo_dataset(\n",
    "    \"open-images-v7\",\n",
    "    split=\"validation\",\n",
    "    label_types=[\"detections\", \"classifications\"],\n",
    "    classes=[\"Cat\", \"Dog\", \"Person\"],\n",
    "    max_samples=3000,\n",
    "    dataset_name=\"cats_dogs_persons\"\n",
    ")\n",
    "\n",
    "session = fo.launch_app(dataset)\n",
    "\n"
   ],
   "metadata": {
    "collapsed": false,
    "ExecuteTime": {
     "end_time": "2023-05-31T18:01:02.525693Z",
     "start_time": "2023-05-31T18:00:49.421296300Z"
    }
   }
  },
  {
   "cell_type": "code",
   "execution_count": null,
   "outputs": [],
   "source": [
    "# Base model\n",
    "# VGG 19\n",
    "# create a vgg19 model\n",
    "from tensorflow.keras.applications.vgg19 import VGG19\n",
    "from tensorflow.keras.models import Model\n",
    "from tensorflow.keras.layers import Dense, Flatten\n",
    "from tensorflow.keras.optimizers import Adam\n",
    "from tensorflow.keras.losses import SparseCategoricalCrossentropy\n",
    "from tensorflow.keras.metrics import SparseCategoricalAccuracy\n",
    "\n",
    "model = VGG19(include_top=False, input_shape=(224, 224, 3))\n",
    "model.summary()\n",
    "\n",
    "\n"
   ],
   "metadata": {
    "collapsed": false
   }
  },
  {
   "cell_type": "code",
   "execution_count": null,
   "outputs": [],
   "source": [
    "# Tasks\n",
    "# Preparation: Split dataset into a 70/30 Train/test split\n"
   ],
   "metadata": {
    "collapsed": false
   }
  },
  {
   "cell_type": "code",
   "execution_count": null,
   "outputs": [],
   "source": [
    "# Train a VGG19 network from scratch (randomly initialized weights) and estimate the testset accuracy.\n",
    "\n"
   ],
   "metadata": {
    "collapsed": false
   }
  },
  {
   "cell_type": "code",
   "execution_count": null,
   "outputs": [],
   "source": [],
   "metadata": {
    "collapsed": false
   }
  },
  {
   "cell_type": "code",
   "execution_count": null,
   "outputs": [],
   "source": [
    "# Transfer learning: Use an imagenet pretrained VGG19 network, train the model and estimate the testset accuracy. Show the differences in loss and accuracy of the plain and pre trained network over the first 10 epochs.\n",
    "\n",
    "# Data cleansing: Remove “bad” images from the dataset. Which did you remove? How many? Discuss results.\n",
    "\n",
    "# Add data augmentation and train again, discuss results\n",
    "    # Random flip\n",
    "    # Random contrast\n",
    "    # Random translation\n",
    "\n"
   ],
   "metadata": {
    "collapsed": false
   }
  },
  {
   "cell_type": "code",
   "execution_count": null,
   "outputs": [],
   "source": [
    "# Rebuild VGG19. After layer block4_conv4 (25, 25, 512):\n",
    "    # Add inception layer with dimensionality reduction (no of output filters should be 512, choose own values for the filter dimensionality reduction in 1x1 layers)\n",
    "    # Add conv layer (kernel 1x1,  filters 1024, padding valid, stride 1, activation leaky relu)\n",
    "    # Add conv layer (kernel 3x3,  filters 1024, padding same, stride 1, activation relu)\n",
    "    # Freeze conv2 layers and before\n",
    "\n"
   ],
   "metadata": {
    "collapsed": false
   }
  },
  {
   "cell_type": "code",
   "execution_count": null,
   "outputs": [],
   "source": [
    "# Test a few of your own images and present the results\n",
    "\n"
   ],
   "metadata": {
    "collapsed": false
   }
  },
  {
   "cell_type": "code",
   "execution_count": null,
   "outputs": [],
   "source": [
    "# Answer the following questions:\n",
    "    # What accuracy can be achieved? What is the accuracy of the train vs. test set?\n",
    "    # On what infrastructure did you train it? What is the inference time?\n",
    "    # What are the number of parameters of the model?\n",
    "    # Which categories are most likely to be confused by the algorithm? Show results in a confusion matrix.\n",
    "\n",
    "\n",
    "\n"
   ],
   "metadata": {
    "collapsed": false
   }
  },
  {
   "cell_type": "code",
   "execution_count": null,
   "outputs": [],
   "source": [
    "# Compare the results of the experiments."
   ],
   "metadata": {
    "collapsed": false
   }
  }
 ],
 "metadata": {
  "kernelspec": {
   "display_name": "Python 3",
   "language": "python",
   "name": "python3"
  },
  "language_info": {
   "codemirror_mode": {
    "name": "ipython",
    "version": 2
   },
   "file_extension": ".py",
   "mimetype": "text/x-python",
   "name": "python",
   "nbconvert_exporter": "python",
   "pygments_lexer": "ipython2",
   "version": "2.7.6"
  }
 },
 "nbformat": 4,
 "nbformat_minor": 0
}
