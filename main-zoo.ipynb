{
 "cells": [
  {
   "cell_type": "markdown",
   "metadata": {},
   "source": [
    "# Image Classification Project 6\n",
    "Choose three classes from the Open Images Dataset. Train a neural net that is able to classify images into these three categories.\n",
    "\n"
   ]
  },
  {
   "cell_type": "code",
   "execution_count": 4,
   "metadata": {
    "pycharm": {
     "is_executing": true
    },
    "ExecuteTime": {
     "end_time": "2023-06-09T11:21:50.389390700Z",
     "start_time": "2023-06-09T11:21:50.381387700Z"
    }
   },
   "outputs": [
    {
     "name": "stdout",
     "output_type": "stream",
     "text": [
      "['Cat', 'Dog', 'Person']\n"
     ]
    }
   ],
   "source": [
    "classes = ['Cat', 'Dog', 'Person']\n",
    "print(classes)"
   ]
  },
  {
   "cell_type": "markdown",
   "metadata": {},
   "source": [
    "## Dataset\n",
    "https://storage.googleapis.com/openimages/web/visualizer/index.html?type=detection\n",
    "\n",
    "## Base model\n",
    "VGG 19"
   ]
  },
  {
   "cell_type": "code",
   "execution_count": 5,
   "metadata": {
    "pycharm": {
     "is_executing": true
    },
    "ExecuteTime": {
     "end_time": "2023-06-09T11:21:53.354220700Z",
     "start_time": "2023-06-09T11:21:53.339700100Z"
    }
   },
   "outputs": [
    {
     "name": "stdout",
     "output_type": "stream",
     "text": [
      "tf.Tensor(25.663765, shape=(), dtype=float32)\n",
      "[PhysicalDevice(name='/physical_device:GPU:0', device_type='GPU')]\n"
     ]
    }
   ],
   "source": [
    "# imports\n",
    "import numpy as np\n",
    "import matplotlib.pyplot as plt\n",
    "from keras.applications import VGG19\n",
    "from keras.layers import Dense, Flatten, Conv2D, LeakyReLU\n",
    "from keras.preprocessing.image import ImageDataGenerator\n",
    "from keras.models import Sequential\n",
    "import tensorflow as tf\n",
    "import fiftyone as fo\n",
    "import fiftyone.zoo as foz\n",
    "\n",
    "#check if GPU is available\n",
    "print(tf.reduce_sum(tf.random.normal([1000, 1000])))\n",
    "print(tf.config.list_physical_devices('GPU'))\n",
    "\n"
   ]
  },
  {
   "cell_type": "markdown",
   "metadata": {},
   "source": [
    "## Task\n",
    "1. Preparation: Split dataset into a 70/30 Train/test split\n"
   ]
  },
  {
   "cell_type": "code",
   "execution_count": 6,
   "metadata": {
    "ExecuteTime": {
     "end_time": "2023-06-09T11:32:09.724864800Z",
     "start_time": "2023-06-09T11:21:55.652480100Z"
    }
   },
   "outputs": [
    {
     "name": "stdout",
     "output_type": "stream",
     "text": [
      "Downloading split 'train' to 'C:\\Users\\Michael\\fiftyone\\open-images-v7\\train' if necessary\n",
      "Downloading 'https://storage.googleapis.com/openimages/2018_04/train/train-images-boxable-with-rotation.csv' to 'C:\\Users\\Michael\\fiftyone\\open-images-v7\\train\\metadata\\image_ids.csv'\n",
      " 100% |██████|    4.8Gb/4.8Gb [1.1m elapsed, 0s remaining, 70.6Mb/s]      \n",
      "Downloading 'https://storage.googleapis.com/openimages/v5/class-descriptions-boxable.csv' to 'C:\\Users\\Michael\\fiftyone\\open-images-v7\\train\\metadata\\classes.csv'\n",
      "Downloading 'https://storage.googleapis.com/openimages/2018_04/bbox_labels_600_hierarchy.json' to 'C:\\Users\\Michael\\AppData\\Local\\Temp\\tmpeyrxl_gq\\metadata\\hierarchy.json'\n",
      "Downloading 'https://storage.googleapis.com/openimages/v5/train-annotations-human-imagelabels-boxable.csv' to 'C:\\Users\\Michael\\fiftyone\\open-images-v7\\train\\labels\\classifications.csv'\n",
      "Downloading 1500 images\n",
      " 100% |█████████████████| 1500/1500 [43.4s elapsed, 0s remaining, 26.5 files/s]      \n",
      "Downloading split 'test' to 'C:\\Users\\Michael\\fiftyone\\open-images-v7\\test' if necessary\n",
      "Downloading 'https://storage.googleapis.com/openimages/2018_04/test/test-images-with-rotation.csv' to 'C:\\Users\\Michael\\fiftyone\\open-images-v7\\test\\metadata\\image_ids.csv'\n",
      "Downloading 'https://storage.googleapis.com/openimages/v5/class-descriptions-boxable.csv' to 'C:\\Users\\Michael\\fiftyone\\open-images-v7\\test\\metadata\\classes.csv'\n",
      "Downloading 'https://storage.googleapis.com/openimages/2018_04/bbox_labels_600_hierarchy.json' to 'C:\\Users\\Michael\\AppData\\Local\\Temp\\tmp5roxwmcl\\metadata\\hierarchy.json'\n",
      "Downloading 'https://storage.googleapis.com/openimages/v5/test-annotations-human-imagelabels-boxable.csv' to 'C:\\Users\\Michael\\fiftyone\\open-images-v7\\test\\labels\\classifications.csv'\n",
      "Only found 1211 (<1500) samples matching your requirements\n",
      "Downloading 1211 images\n",
      " 100% |█████████████████| 1211/1211 [31.4s elapsed, 0s remaining, 36.8 files/s]      \n",
      "Downloading split 'validation' to 'C:\\Users\\Michael\\fiftyone\\open-images-v7\\validation' if necessary\n",
      "Downloading 'https://storage.googleapis.com/openimages/2018_04/validation/validation-images-with-rotation.csv' to 'C:\\Users\\Michael\\fiftyone\\open-images-v7\\validation\\metadata\\image_ids.csv'\n",
      "Downloading 'https://storage.googleapis.com/openimages/v5/class-descriptions-boxable.csv' to 'C:\\Users\\Michael\\fiftyone\\open-images-v7\\validation\\metadata\\classes.csv'\n",
      "Downloading 'https://storage.googleapis.com/openimages/2018_04/bbox_labels_600_hierarchy.json' to 'C:\\Users\\Michael\\AppData\\Local\\Temp\\tmpn2qa7dk5\\metadata\\hierarchy.json'\n",
      "Downloading 'https://storage.googleapis.com/openimages/v5/validation-annotations-human-imagelabels-boxable.csv' to 'C:\\Users\\Michael\\fiftyone\\open-images-v7\\validation\\labels\\classifications.csv'\n",
      "Only found 413 (<1500) samples matching your requirements\n",
      "Downloading 413 images\n",
      " 100% |███████████████████| 413/413 [11.5s elapsed, 0s remaining, 36.2 files/s]      \n",
      "Dataset info written to 'C:\\Users\\Michael\\fiftyone\\open-images-v7\\info.json'\n",
      "Loading 'open-images-v7' split 'train'\n",
      " 100% |███████████████| 1500/1500 [901.1ms elapsed, 0s remaining, 1.7K samples/s]      \n",
      "Loading 'open-images-v7' split 'test'\n",
      " 100% |███████████████| 1211/1211 [638.8ms elapsed, 0s remaining, 1.9K samples/s]      \n",
      "Loading 'open-images-v7' split 'validation'\n",
      " 100% |█████████████████| 413/413 [198.3ms elapsed, 0s remaining, 2.1K samples/s]     \n",
      "Dataset 'cdp-dataset' created\n",
      "Name:        cdp-dataset\n",
      "Media type:  image\n",
      "Num samples: 3124\n",
      "Persistent:  False\n",
      "Tags:        []\n",
      "Sample fields:\n",
      "    id:              fiftyone.core.fields.ObjectIdField\n",
      "    filepath:        fiftyone.core.fields.StringField\n",
      "    tags:            fiftyone.core.fields.ListField(fiftyone.core.fields.StringField)\n",
      "    metadata:        fiftyone.core.fields.EmbeddedDocumentField(fiftyone.core.metadata.ImageMetadata)\n",
      "    positive_labels: fiftyone.core.fields.EmbeddedDocumentField(fiftyone.core.labels.Classifications)\n",
      "    negative_labels: fiftyone.core.fields.EmbeddedDocumentField(fiftyone.core.labels.Classifications)\n",
      "Downloading split 'train' to 'C:\\Users\\Michael\\fiftyone\\open-images-v7\\train' if necessary\n",
      "Found 21 images, downloading the remaining 1479\n",
      " 100% |█████████████████| 1479/1479 [47.2s elapsed, 0s remaining, 29.8 files/s]      \n",
      "Downloading split 'test' to 'C:\\Users\\Michael\\fiftyone\\open-images-v7\\test' if necessary\n",
      "Found 34 images, downloading the remaining 1466\n",
      " 100% |█████████████████| 1466/1466 [48.7s elapsed, 0s remaining, 15.3 files/s]      \n",
      "Downloading split 'validation' to 'C:\\Users\\Michael\\fiftyone\\open-images-v7\\validation' if necessary\n",
      "Found 36 images, downloading the remaining 1464\n",
      " 100% |█████████████████| 1464/1464 [46.1s elapsed, 0s remaining, 14.6 files/s]      \n",
      "Dataset info written to 'C:\\Users\\Michael\\fiftyone\\open-images-v7\\info.json'\n",
      "Ignoring unsupported parameter 'dataset_path' for importer type <class 'fiftyone.utils.openimages.OpenImagesV7DatasetImporter'>\n",
      "Loading 'open-images-v7' split 'train'\n",
      " 100% |███████████████| 1500/1500 [860.4ms elapsed, 0s remaining, 1.7K samples/s]      \n",
      "Loading 'open-images-v7' split 'test'\n",
      " 100% |███████████████| 1500/1500 [777.1ms elapsed, 0s remaining, 1.9K samples/s]      \n",
      "Loading 'open-images-v7' split 'validation'\n",
      " 100% |███████████████| 1500/1500 [826.3ms elapsed, 0s remaining, 1.8K samples/s]      \n",
      "Dataset 'Dog' created\n",
      "Downloading split 'train' to 'C:\\Users\\Michael\\fiftyone\\open-images-v7\\train' if necessary\n",
      "Found 1 images, downloading the remaining 1499\n",
      " 100% |█████████████████| 1499/1499 [44.6s elapsed, 0s remaining, 38.3 files/s]      \n",
      "Downloading split 'test' to 'C:\\Users\\Michael\\fiftyone\\open-images-v7\\test' if necessary\n",
      "Found 20 images, downloading the remaining 1480\n",
      " 100% |█████████████████| 1480/1480 [45.7s elapsed, 0s remaining, 14.4 files/s]      \n",
      "Downloading split 'validation' to 'C:\\Users\\Michael\\fiftyone\\open-images-v7\\validation' if necessary\n",
      "Found 55 images, downloading the remaining 1445\n",
      " 100% |█████████████████| 1445/1445 [42.5s elapsed, 0s remaining, 24.7 files/s]      \n",
      "Dataset info written to 'C:\\Users\\Michael\\fiftyone\\open-images-v7\\info.json'\n",
      "Ignoring unsupported parameter 'dataset_path' for importer type <class 'fiftyone.utils.openimages.OpenImagesV7DatasetImporter'>\n",
      "Loading 'open-images-v7' split 'train'\n",
      " 100% |███████████████| 1500/1500 [787.6ms elapsed, 0s remaining, 1.9K samples/s]      \n",
      "Loading 'open-images-v7' split 'test'\n",
      " 100% |███████████████| 1500/1500 [778.4ms elapsed, 0s remaining, 1.9K samples/s]      \n",
      "Loading 'open-images-v7' split 'validation'\n",
      " 100% |███████████████| 1500/1500 [770.2ms elapsed, 0s remaining, 2.0K samples/s]      \n",
      "Dataset 'Person' created\n",
      "['Dog', 'Person', 'cdp-dataset']\n"
     ]
    }
   ],
   "source": [
    "ratio_train_test = 0.3\n",
    "num_samples = 1500\n",
    "# Customize where zoo datasets are downloaded\n",
    "dataset_name = \"open-images-v7\"\n",
    "seed = 42\n",
    "splits = ('train', 'test', 'validation')\n",
    "\n",
    "\n",
    "\n",
    "# load cat data\n",
    "chosen_class = classes[0]\n",
    "\n",
    "if fo.dataset_exists(chosen_class):\n",
    "    dataset = fo.load_dataset(chosen_class)\n",
    "\n",
    "dataset = foz.load_zoo_dataset(\n",
    "    name=dataset_name,\n",
    "    splits=splits,\n",
    "    label_types=[\"classifications\"],\n",
    "    classes=chosen_class,\n",
    "    max_samples=num_samples,\n",
    "    seed=seed,\n",
    "    shuffle=True,\n",
    "    dataset_name=\"cdp-dataset\",\n",
    "    only_matching=True,\n",
    ")\n",
    "print(dataset)\n",
    "\n",
    "# load dog data\n",
    "chosen_class = classes[1]\n",
    "\n",
    "if fo.dataset_exists(chosen_class):\n",
    "    dataset = fo.load_dataset(chosen_class)\n",
    "\n",
    "dataset_dog = foz.load_zoo_dataset(\n",
    "    name=dataset_name,\n",
    "    splits=splits,\n",
    "    label_types=[\"classifications\"],\n",
    "    classes=chosen_class,\n",
    "    max_samples=num_samples,\n",
    "    seed=seed,\n",
    "    shuffle=True,\n",
    "    dataset_name=chosen_class,\n",
    "    dataset_path=chosen_class,\n",
    "    only_matching=True,\n",
    ")\n",
    "\n",
    "dataset.merge_samples(dataset_dog)\n",
    "\n",
    "# load person data\n",
    "chosen_class = classes[2]\n",
    "\n",
    "if fo.dataset_exists(chosen_class):\n",
    "    dataset = fo.load_dataset(chosen_class)\n",
    "\n",
    "dataset_person = foz.load_zoo_dataset(\n",
    "    name=dataset_name,\n",
    "    splits=splits,\n",
    "    label_types=[\"classifications\"],\n",
    "    classes=chosen_class,\n",
    "    max_samples=num_samples,\n",
    "    seed=seed,\n",
    "    shuffle=True,\n",
    "    dataset_name=chosen_class,\n",
    "    dataset_path=chosen_class,\n",
    "    only_matching=True,\n",
    ")\n",
    "\n",
    "dataset.merge_samples(dataset_person)\n",
    "\n",
    "print(fo.list_datasets())\n"
   ]
  },
  {
   "cell_type": "code",
   "execution_count": 12,
   "outputs": [
    {
     "name": "stdout",
     "output_type": "stream",
     "text": [
      "dict_keys(['hierarchy', 'classes_map'])\n",
      "['Dog', 'Person', 'cdp-dataset']\n"
     ]
    },
    {
     "data": {
      "text/plain": "<IPython.lib.display.IFrame at 0x1c158a1f1f0>",
      "text/html": "\n        <iframe\n            width=\"100%\"\n            height=\"800\"\n            src=\"http://localhost:5151/?notebook=True&subscription=6f4d8e59-4e88-4e11-9758-a9550fc0c2a9\"\n            frameborder=\"0\"\n            allowfullscreen\n            \n        ></iframe>\n        "
     },
     "metadata": {},
     "output_type": "display_data"
    }
   ],
   "source": [
    "print(dataset.info.keys())\n",
    "print(fo.list_datasets())\n",
    "fo.delete_dataset(\"Dog\")\n",
    "fo.delete_dataset(\"Person\")\n",
    "\n",
    "session = fo.launch_app(dataset.view())"
   ],
   "metadata": {
    "collapsed": false,
    "ExecuteTime": {
     "end_time": "2023-06-09T11:41:49.963086500Z",
     "start_time": "2023-06-09T11:41:45.781775200Z"
    }
   }
  },
  {
   "cell_type": "code",
   "execution_count": 15,
   "outputs": [
    {
     "name": "stdout",
     "output_type": "stream",
     "text": [
      "Directory 'datasets/cdp--tfrecords' already exists; export will be merged with existing files\n"
     ]
    },
    {
     "ename": "ValueError",
     "evalue": "No compatible field(s) of type <class 'fiftyone.core.labels.Classification'> found",
     "output_type": "error",
     "traceback": [
      "\u001B[1;31m---------------------------------------------------------------------------\u001B[0m",
      "\u001B[1;31mValueError\u001B[0m                                Traceback (most recent call last)",
      "Cell \u001B[1;32mIn[15], line 10\u001B[0m\n\u001B[0;32m      8\u001B[0m \u001B[38;5;28;01mfor\u001B[39;00m split \u001B[38;5;129;01min\u001B[39;00m splits:\n\u001B[0;32m      9\u001B[0m     split_view \u001B[38;5;241m=\u001B[39m dataset_or_view\u001B[38;5;241m.\u001B[39mmatch_tags(split)\n\u001B[1;32m---> 10\u001B[0m     \u001B[43msplit_view\u001B[49m\u001B[38;5;241;43m.\u001B[39;49m\u001B[43mexport\u001B[49m\u001B[43m(\u001B[49m\n\u001B[0;32m     11\u001B[0m \u001B[43m        \u001B[49m\u001B[43mexport_dir\u001B[49m\u001B[38;5;241;43m=\u001B[39;49m\u001B[43mexport_dir\u001B[49m\u001B[43m,\u001B[49m\n\u001B[0;32m     12\u001B[0m \u001B[43m        \u001B[49m\u001B[43mdataset_type\u001B[49m\u001B[38;5;241;43m=\u001B[39;49m\u001B[43mfo\u001B[49m\u001B[38;5;241;43m.\u001B[39;49m\u001B[43mtypes\u001B[49m\u001B[38;5;241;43m.\u001B[39;49m\u001B[43mTFImageClassificationDataset\u001B[49m\u001B[43m,\u001B[49m\n\u001B[0;32m     13\u001B[0m \u001B[43m        \u001B[49m\u001B[43msplit\u001B[49m\u001B[38;5;241;43m=\u001B[39;49m\u001B[43msplit\u001B[49m\u001B[43m,\u001B[49m\n\u001B[0;32m     14\u001B[0m \u001B[43m        \u001B[49m\u001B[43mclasses\u001B[49m\u001B[38;5;241;43m=\u001B[39;49m\u001B[43mclasses\u001B[49m\u001B[43m,\u001B[49m\n\u001B[0;32m     15\u001B[0m \u001B[43m    \u001B[49m\u001B[43m)\u001B[49m\n",
      "File \u001B[1;32m~\\miniconda3\\envs\\tf\\lib\\site-packages\\fiftyone\\core\\collections.py:8076\u001B[0m, in \u001B[0;36mSampleCollection.export\u001B[1;34m(self, export_dir, dataset_type, data_path, labels_path, export_media, rel_dir, dataset_exporter, label_field, frame_labels_field, overwrite, **kwargs)\u001B[0m\n\u001B[0;32m   8073\u001B[0m     export_dir, _ \u001B[38;5;241m=\u001B[39m etau\u001B[38;5;241m.\u001B[39msplit_archive(archive_path)\n\u001B[0;32m   8075\u001B[0m \u001B[38;5;66;03m# Perform the export\u001B[39;00m\n\u001B[1;32m-> 8076\u001B[0m _export(\n\u001B[0;32m   8077\u001B[0m     \u001B[38;5;28mself\u001B[39m,\n\u001B[0;32m   8078\u001B[0m     export_dir\u001B[38;5;241m=\u001B[39mexport_dir,\n\u001B[0;32m   8079\u001B[0m     dataset_type\u001B[38;5;241m=\u001B[39mdataset_type,\n\u001B[0;32m   8080\u001B[0m     data_path\u001B[38;5;241m=\u001B[39mdata_path,\n\u001B[0;32m   8081\u001B[0m     labels_path\u001B[38;5;241m=\u001B[39mlabels_path,\n\u001B[0;32m   8082\u001B[0m     export_media\u001B[38;5;241m=\u001B[39mexport_media,\n\u001B[0;32m   8083\u001B[0m     rel_dir\u001B[38;5;241m=\u001B[39mrel_dir,\n\u001B[0;32m   8084\u001B[0m     dataset_exporter\u001B[38;5;241m=\u001B[39mdataset_exporter,\n\u001B[0;32m   8085\u001B[0m     label_field\u001B[38;5;241m=\u001B[39mlabel_field,\n\u001B[0;32m   8086\u001B[0m     frame_labels_field\u001B[38;5;241m=\u001B[39mframe_labels_field,\n\u001B[0;32m   8087\u001B[0m     overwrite\u001B[38;5;241m=\u001B[39moverwrite,\n\u001B[0;32m   8088\u001B[0m     \u001B[38;5;241m*\u001B[39m\u001B[38;5;241m*\u001B[39mkwargs,\n\u001B[0;32m   8089\u001B[0m )\n\u001B[0;32m   8091\u001B[0m \u001B[38;5;66;03m# Make archive, if requested\u001B[39;00m\n\u001B[0;32m   8092\u001B[0m \u001B[38;5;28;01mif\u001B[39;00m archive_path \u001B[38;5;129;01mis\u001B[39;00m \u001B[38;5;129;01mnot\u001B[39;00m \u001B[38;5;28;01mNone\u001B[39;00m:\n",
      "File \u001B[1;32m~\\miniconda3\\envs\\tf\\lib\\site-packages\\fiftyone\\core\\collections.py:10547\u001B[0m, in \u001B[0;36m_export\u001B[1;34m(sample_collection, export_dir, dataset_type, data_path, labels_path, export_media, rel_dir, dataset_exporter, label_field, frame_labels_field, overwrite, **kwargs)\u001B[0m\n\u001B[0;32m  10544\u001B[0m \u001B[38;5;66;03m# Get label field(s) to export\u001B[39;00m\n\u001B[0;32m  10545\u001B[0m \u001B[38;5;28;01mif\u001B[39;00m \u001B[38;5;28misinstance\u001B[39m(dataset_exporter, foud\u001B[38;5;241m.\u001B[39mLabeledImageDatasetExporter):\n\u001B[0;32m  10546\u001B[0m     \u001B[38;5;66;03m# Labeled images\u001B[39;00m\n\u001B[1;32m> 10547\u001B[0m     label_field \u001B[38;5;241m=\u001B[39m \u001B[43msample_collection\u001B[49m\u001B[38;5;241;43m.\u001B[39;49m\u001B[43m_parse_label_field\u001B[49m\u001B[43m(\u001B[49m\n\u001B[0;32m  10548\u001B[0m \u001B[43m        \u001B[49m\u001B[43mlabel_field\u001B[49m\u001B[43m,\u001B[49m\n\u001B[0;32m  10549\u001B[0m \u001B[43m        \u001B[49m\u001B[43mdataset_exporter\u001B[49m\u001B[38;5;241;43m=\u001B[39;49m\u001B[43mdataset_exporter\u001B[49m\u001B[43m,\u001B[49m\n\u001B[0;32m  10550\u001B[0m \u001B[43m        \u001B[49m\u001B[43mallow_coercion\u001B[49m\u001B[38;5;241;43m=\u001B[39;49m\u001B[38;5;28;43;01mTrue\u001B[39;49;00m\u001B[43m,\u001B[49m\n\u001B[0;32m  10551\u001B[0m \u001B[43m        \u001B[49m\u001B[43mrequired\u001B[49m\u001B[38;5;241;43m=\u001B[39;49m\u001B[38;5;28;43;01mTrue\u001B[39;49;00m\u001B[43m,\u001B[49m\n\u001B[0;32m  10552\u001B[0m \u001B[43m    \u001B[49m\u001B[43m)\u001B[49m\n\u001B[0;32m  10553\u001B[0m     frame_labels_field \u001B[38;5;241m=\u001B[39m \u001B[38;5;28;01mNone\u001B[39;00m\n\u001B[0;32m  10554\u001B[0m \u001B[38;5;28;01melif\u001B[39;00m \u001B[38;5;28misinstance\u001B[39m(dataset_exporter, foud\u001B[38;5;241m.\u001B[39mLabeledVideoDatasetExporter):\n\u001B[0;32m  10555\u001B[0m     \u001B[38;5;66;03m# Labeled videos\u001B[39;00m\n",
      "File \u001B[1;32m~\\miniconda3\\envs\\tf\\lib\\site-packages\\fiftyone\\core\\collections.py:9446\u001B[0m, in \u001B[0;36mSampleCollection._parse_label_field\u001B[1;34m(self, label_field, dataset_exporter, allow_coercion, force_dict, required)\u001B[0m\n\u001B[0;32m   9438\u001B[0m \u001B[38;5;28;01mdef\u001B[39;00m \u001B[38;5;21m_parse_label_field\u001B[39m(\n\u001B[0;32m   9439\u001B[0m     \u001B[38;5;28mself\u001B[39m,\n\u001B[0;32m   9440\u001B[0m     label_field,\n\u001B[1;32m   (...)\u001B[0m\n\u001B[0;32m   9444\u001B[0m     required\u001B[38;5;241m=\u001B[39m\u001B[38;5;28;01mFalse\u001B[39;00m,\n\u001B[0;32m   9445\u001B[0m ):\n\u001B[1;32m-> 9446\u001B[0m     \u001B[38;5;28;01mreturn\u001B[39;00m \u001B[43m_parse_label_field\u001B[49m\u001B[43m(\u001B[49m\n\u001B[0;32m   9447\u001B[0m \u001B[43m        \u001B[49m\u001B[38;5;28;43mself\u001B[39;49m\u001B[43m,\u001B[49m\n\u001B[0;32m   9448\u001B[0m \u001B[43m        \u001B[49m\u001B[43mlabel_field\u001B[49m\u001B[43m,\u001B[49m\n\u001B[0;32m   9449\u001B[0m \u001B[43m        \u001B[49m\u001B[43mdataset_exporter\u001B[49m\u001B[38;5;241;43m=\u001B[39;49m\u001B[43mdataset_exporter\u001B[49m\u001B[43m,\u001B[49m\n\u001B[0;32m   9450\u001B[0m \u001B[43m        \u001B[49m\u001B[43mallow_coercion\u001B[49m\u001B[38;5;241;43m=\u001B[39;49m\u001B[43mallow_coercion\u001B[49m\u001B[43m,\u001B[49m\n\u001B[0;32m   9451\u001B[0m \u001B[43m        \u001B[49m\u001B[43mforce_dict\u001B[49m\u001B[38;5;241;43m=\u001B[39;49m\u001B[43mforce_dict\u001B[49m\u001B[43m,\u001B[49m\n\u001B[0;32m   9452\u001B[0m \u001B[43m        \u001B[49m\u001B[43mrequired\u001B[49m\u001B[38;5;241;43m=\u001B[39;49m\u001B[43mrequired\u001B[49m\u001B[43m,\u001B[49m\n\u001B[0;32m   9453\u001B[0m \u001B[43m    \u001B[49m\u001B[43m)\u001B[49m\n",
      "File \u001B[1;32m~\\miniconda3\\envs\\tf\\lib\\site-packages\\fiftyone\\core\\collections.py:9821\u001B[0m, in \u001B[0;36m_parse_label_field\u001B[1;34m(sample_collection, label_field, dataset_exporter, allow_coercion, force_dict, required)\u001B[0m\n\u001B[0;32m   9818\u001B[0m     \u001B[38;5;28;01mreturn\u001B[39;00m {f: f \u001B[38;5;28;01mfor\u001B[39;00m f \u001B[38;5;129;01min\u001B[39;00m label_field}\n\u001B[0;32m   9820\u001B[0m \u001B[38;5;28;01mif\u001B[39;00m label_field \u001B[38;5;129;01mis\u001B[39;00m \u001B[38;5;28;01mNone\u001B[39;00m \u001B[38;5;129;01mand\u001B[39;00m dataset_exporter \u001B[38;5;129;01mis\u001B[39;00m \u001B[38;5;129;01mnot\u001B[39;00m \u001B[38;5;28;01mNone\u001B[39;00m:\n\u001B[1;32m-> 9821\u001B[0m     label_field \u001B[38;5;241m=\u001B[39m \u001B[43m_get_default_label_fields_for_exporter\u001B[49m\u001B[43m(\u001B[49m\n\u001B[0;32m   9822\u001B[0m \u001B[43m        \u001B[49m\u001B[43msample_collection\u001B[49m\u001B[43m,\u001B[49m\n\u001B[0;32m   9823\u001B[0m \u001B[43m        \u001B[49m\u001B[43mdataset_exporter\u001B[49m\u001B[43m,\u001B[49m\n\u001B[0;32m   9824\u001B[0m \u001B[43m        \u001B[49m\u001B[43mallow_coercion\u001B[49m\u001B[38;5;241;43m=\u001B[39;49m\u001B[43mallow_coercion\u001B[49m\u001B[43m,\u001B[49m\n\u001B[0;32m   9825\u001B[0m \u001B[43m        \u001B[49m\u001B[43mrequired\u001B[49m\u001B[38;5;241;43m=\u001B[39;49m\u001B[43mrequired\u001B[49m\u001B[43m,\u001B[49m\n\u001B[0;32m   9826\u001B[0m \u001B[43m    \u001B[49m\u001B[43m)\u001B[49m\n\u001B[0;32m   9828\u001B[0m \u001B[38;5;28;01mif\u001B[39;00m label_field \u001B[38;5;129;01mis\u001B[39;00m \u001B[38;5;28;01mNone\u001B[39;00m \u001B[38;5;129;01mand\u001B[39;00m required:\n\u001B[0;32m   9829\u001B[0m     \u001B[38;5;28;01mraise\u001B[39;00m \u001B[38;5;167;01mValueError\u001B[39;00m(\n\u001B[0;32m   9830\u001B[0m         \u001B[38;5;124m\"\u001B[39m\u001B[38;5;124mUnable to find any label fields matching the provided arguments\u001B[39m\u001B[38;5;124m\"\u001B[39m\n\u001B[0;32m   9831\u001B[0m     )\n",
      "File \u001B[1;32m~\\miniconda3\\envs\\tf\\lib\\site-packages\\fiftyone\\core\\collections.py:9935\u001B[0m, in \u001B[0;36m_get_default_label_fields_for_exporter\u001B[1;34m(sample_collection, dataset_exporter, allow_coercion, required)\u001B[0m\n\u001B[0;32m   9931\u001B[0m     \u001B[38;5;28;01mreturn\u001B[39;00m label_field_or_dict\n\u001B[0;32m   9933\u001B[0m \u001B[38;5;28;01mif\u001B[39;00m required:\n\u001B[0;32m   9934\u001B[0m     \u001B[38;5;66;03m# Strange formatting is because `label_cls` may be a tuple\u001B[39;00m\n\u001B[1;32m-> 9935\u001B[0m     \u001B[38;5;28;01mraise\u001B[39;00m \u001B[38;5;167;01mValueError\u001B[39;00m(\n\u001B[0;32m   9936\u001B[0m         \u001B[38;5;124m\"\u001B[39m\u001B[38;5;124mNo compatible field(s) of type \u001B[39m\u001B[38;5;132;01m%s\u001B[39;00m\u001B[38;5;124m found\u001B[39m\u001B[38;5;124m\"\u001B[39m \u001B[38;5;241m%\u001B[39m (label_cls,)\n\u001B[0;32m   9937\u001B[0m     )\n\u001B[0;32m   9939\u001B[0m \u001B[38;5;28;01mreturn\u001B[39;00m \u001B[38;5;28;01mNone\u001B[39;00m\n",
      "\u001B[1;31mValueError\u001B[0m: No compatible field(s) of type <class 'fiftyone.core.labels.Classification'> found"
     ]
    }
   ],
   "source": [
    "export_dir = \"datasets/cdp--tfrecords\"\n",
    "label_field = \"Classifications\"\n",
    "\n",
    "dataset_or_view = fo.load_dataset(\"cdp-dataset\")\n",
    "\n",
    "# Export the dataset as tfrecords\n",
    "\n",
    "tf_records = fo.Dataset.from_dir(\n",
    "    export_dir,\n",
    "    dataset_type=fo.types.TFObjectDetectionDataset,\n",
    "    label_field=label_field,\n",
    "    dataset_name=\"cdp-dataset-\",\n",
    "    only_matching=True,\n",
    "\n"
   ],
   "metadata": {
    "collapsed": false,
    "ExecuteTime": {
     "end_time": "2023-06-09T11:44:42.013866300Z",
     "start_time": "2023-06-09T11:44:41.913688400Z"
    }
   }
  },
  {
   "cell_type": "code",
   "execution_count": null,
   "outputs": [],
   "source": [
    "\n",
    "# Define parameters for the loader\n",
    "img_height = 224\n",
    "img_width = 224\n",
    "\n",
    "\n",
    "# Load the training data\n",
    "train_datagen = ImageDataGenerator(\n",
    "    rescale=1. / 255,\n",
    "\n",
    "\n",
    ")\n",
    "\n",
    "train_generator = train_datagen.flow_from_directory(\n",
    "    train_path,\n",
    "    target_size=(img_height, img_width),\n",
    "    class_mode='categorical',\n",
    "    subset='training')  # set as training data\n",
    "\n",
    "test_generator = train_datagen.flow_from_directory(\n",
    "    test_path,\n",
    "    target_size=(img_height, img_width),\n",
    "    class_mode='categorical',\n",
    "    subset='training')  # set as training data\n",
    "\n",
    "# Load the validation data\n",
    "validation_generator = train_datagen.flow_from_directory(\n",
    "    val_path,\n",
    "    target_size=(img_height, img_width),\n",
    "    class_mode='categorical',\n",
    "    subset='validation')  # set as validation data\n",
    "\n"
   ],
   "metadata": {
    "collapsed": false
   }
  },
  {
   "cell_type": "code",
   "execution_count": null,
   "metadata": {},
   "outputs": [],
   "source": [
    "# Get the class labels and the number of images per class from the generators\n",
    "class_labels = train_generator.class_indices\n",
    "n_images_per_class = train_generator.classes.shape[0] // len(class_labels)\n",
    "\n",
    "# Plot the datasets\n",
    "fig, axes = plt.subplots(1, 2, figsize=(10, 5))\n",
    "\n",
    "# Plot the training dataset\n",
    "train_generator.class_indices = class_labels\n",
    "class_counts_train = train_generator.classes\n",
    "class_counts_train = [class_counts_train[class_counts_train == i].shape[0] for i in range(len(class_labels))]\n",
    "axes[0].bar(class_labels.keys(), class_counts_train)\n",
    "axes[0].set_title('Training Dataset')\n",
    "\n",
    "# Plot the validation dataset\n",
    "validation_generator.class_indices = class_labels\n",
    "class_counts_val = validation_generator.classes\n",
    "class_counts_val = [class_counts_val[class_counts_val == i].shape[0] for i in range(len(class_labels))]\n",
    "axes[1].bar(class_labels.keys(), class_counts_val)\n",
    "axes[1].set_title('Validation Dataset')\n",
    "\n",
    "# Set the labels and show the plot\n",
    "plt.xlabel('Classes')\n",
    "plt.ylabel('Number of Images')\n",
    "plt.tight_layout()\n",
    "plt.show()\n"
   ]
  },
  {
   "cell_type": "markdown",
   "metadata": {
    "ExecuteTime": {
     "end_time": "2023-06-08T17:04:53.328600300Z",
     "start_time": "2023-06-08T17:04:53.199967800Z"
    }
   },
   "source": [
    "2. Train a VGG19 network from scratch (randomly initialized weights) and estimate the testset accuracy."
   ],
   "outputs": [
    {
     "data": {
      "text/plain": "<Figure size 1000x500 with 2 Axes>",
      "image/png": "[encoded data removed]"
     },
     "metadata": {},
     "output_type": "display_data"
    }
   ],
   "execution_count": 15
  },
  {
   "cell_type": "code",
   "execution_count": null,
   "metadata": {},
   "outputs": [],
   "source": [
    "# Load a VGG19 model with random initialized weights\n",
    "base_model = VGG19(weights=None, include_top=False, input_shape=(img_height, img_width, 3))\n",
    "\n",
    "# Create a new model\n",
    "plain_model = Sequential()\n",
    "# Add the base model as the first layer\n",
    "plain_model.add(base_model)\n",
    "# Flatten the output of the base model\n",
    "plain_model.add(Flatten())\n",
    "# Add the final output layer with softmax activation\n",
    "plain_model.add(Dense(len(classes), activation='softmax'))\n",
    "\n",
    "# Compile the model\n",
    "plain_model.compile(optimizer='adam', loss='categorical_crossentropy', metrics=['accuracy'])\n",
    "\n",
    "# Train the model\n",
    "plain_history = plain_model.fit(\n",
    "    train_generator,\n",
    "    validation_data=validation_generator,\n",
    "    epochs=10)\n",
    "\n",
    "plain_model.save(\"models/plain_model_raw_data.h5\")"
   ]
  },
  {
   "cell_type": "markdown",
   "metadata": {
    "ExecuteTime": {
     "end_time": "2023-06-08T17:08:52.744716300Z",
     "start_time": "2023-06-08T17:04:55.266999400Z"
    }
   },
   "source": [
    "3. Use an imagenet pretrained VGG19 network, train the model and estimate the testset accuracy."
   ],
   "outputs": [
    {
     "name": "stdout",
     "output_type": "stream",
     "text": [
      "Epoch 1/10\n",
      "47/99 [=============>................] - ETA: 4:15 - loss: 1.1740 - accuracy: 0.3197"
     ]
    },
    {
     "ename": "KeyboardInterrupt",
     "evalue": "",
     "output_type": "error",
     "traceback": [
      "\u001B[1;31m---------------------------------------------------------------------------\u001B[0m",
      "\u001B[1;31mKeyboardInterrupt\u001B[0m                         Traceback (most recent call last)",
      "Cell \u001B[1;32mIn[16], line 17\u001B[0m\n\u001B[0;32m     14\u001B[0m plain_model\u001B[38;5;241m.\u001B[39mcompile(optimizer\u001B[38;5;241m=\u001B[39m\u001B[38;5;124m'\u001B[39m\u001B[38;5;124madam\u001B[39m\u001B[38;5;124m'\u001B[39m, loss\u001B[38;5;241m=\u001B[39m\u001B[38;5;124m'\u001B[39m\u001B[38;5;124mcategorical_crossentropy\u001B[39m\u001B[38;5;124m'\u001B[39m, metrics\u001B[38;5;241m=\u001B[39m[\u001B[38;5;124m'\u001B[39m\u001B[38;5;124maccuracy\u001B[39m\u001B[38;5;124m'\u001B[39m])\n\u001B[0;32m     16\u001B[0m \u001B[38;5;66;03m# Train the model\u001B[39;00m\n\u001B[1;32m---> 17\u001B[0m plain_history \u001B[38;5;241m=\u001B[39m \u001B[43mplain_model\u001B[49m\u001B[38;5;241;43m.\u001B[39;49m\u001B[43mfit\u001B[49m\u001B[43m(\u001B[49m\n\u001B[0;32m     18\u001B[0m \u001B[43m    \u001B[49m\u001B[43mtrain_generator\u001B[49m\u001B[43m,\u001B[49m\n\u001B[0;32m     19\u001B[0m \u001B[43m    \u001B[49m\u001B[43mvalidation_data\u001B[49m\u001B[38;5;241;43m=\u001B[39;49m\u001B[43mvalidation_generator\u001B[49m\u001B[43m,\u001B[49m\n\u001B[0;32m     20\u001B[0m \u001B[43m    \u001B[49m\u001B[43mepochs\u001B[49m\u001B[38;5;241;43m=\u001B[39;49m\u001B[38;5;241;43m10\u001B[39;49m\u001B[43m)\u001B[49m\n\u001B[0;32m     22\u001B[0m plain_model\u001B[38;5;241m.\u001B[39msave(\u001B[38;5;124m\"\u001B[39m\u001B[38;5;124mmodels/plain_model_raw_data.h5\u001B[39m\u001B[38;5;124m\"\u001B[39m)\n",
      "File \u001B[1;32m~\\miniconda3\\envs\\tf\\lib\\site-packages\\keras\\utils\\traceback_utils.py:65\u001B[0m, in \u001B[0;36mfilter_traceback.<locals>.error_handler\u001B[1;34m(*args, **kwargs)\u001B[0m\n\u001B[0;32m     63\u001B[0m filtered_tb \u001B[38;5;241m=\u001B[39m \u001B[38;5;28;01mNone\u001B[39;00m\n\u001B[0;32m     64\u001B[0m \u001B[38;5;28;01mtry\u001B[39;00m:\n\u001B[1;32m---> 65\u001B[0m     \u001B[38;5;28;01mreturn\u001B[39;00m fn(\u001B[38;5;241m*\u001B[39margs, \u001B[38;5;241m*\u001B[39m\u001B[38;5;241m*\u001B[39mkwargs)\n\u001B[0;32m     66\u001B[0m \u001B[38;5;28;01mexcept\u001B[39;00m \u001B[38;5;167;01mException\u001B[39;00m \u001B[38;5;28;01mas\u001B[39;00m e:\n\u001B[0;32m     67\u001B[0m     filtered_tb \u001B[38;5;241m=\u001B[39m _process_traceback_frames(e\u001B[38;5;241m.\u001B[39m__traceback__)\n",
      "File \u001B[1;32m~\\miniconda3\\envs\\tf\\lib\\site-packages\\keras\\engine\\training.py:1570\u001B[0m, in \u001B[0;36mModel.fit\u001B[1;34m(self, x, y, batch_size, epochs, verbose, callbacks, validation_split, validation_data, shuffle, class_weight, sample_weight, initial_epoch, steps_per_epoch, validation_steps, validation_batch_size, validation_freq, max_queue_size, workers, use_multiprocessing)\u001B[0m\n\u001B[0;32m   1568\u001B[0m logs \u001B[38;5;241m=\u001B[39m tmp_logs\n\u001B[0;32m   1569\u001B[0m end_step \u001B[38;5;241m=\u001B[39m step \u001B[38;5;241m+\u001B[39m data_handler\u001B[38;5;241m.\u001B[39mstep_increment\n\u001B[1;32m-> 1570\u001B[0m \u001B[43mcallbacks\u001B[49m\u001B[38;5;241;43m.\u001B[39;49m\u001B[43mon_train_batch_end\u001B[49m\u001B[43m(\u001B[49m\u001B[43mend_step\u001B[49m\u001B[43m,\u001B[49m\u001B[43m \u001B[49m\u001B[43mlogs\u001B[49m\u001B[43m)\u001B[49m\n\u001B[0;32m   1571\u001B[0m \u001B[38;5;28;01mif\u001B[39;00m \u001B[38;5;28mself\u001B[39m\u001B[38;5;241m.\u001B[39mstop_training:\n\u001B[0;32m   1572\u001B[0m     \u001B[38;5;28;01mbreak\u001B[39;00m\n",
      "File \u001B[1;32m~\\miniconda3\\envs\\tf\\lib\\site-packages\\keras\\callbacks.py:470\u001B[0m, in \u001B[0;36mCallbackList.on_train_batch_end\u001B[1;34m(self, batch, logs)\u001B[0m\n\u001B[0;32m    463\u001B[0m \u001B[38;5;250m\u001B[39m\u001B[38;5;124;03m\"\"\"Calls the `on_train_batch_end` methods of its callbacks.\u001B[39;00m\n\u001B[0;32m    464\u001B[0m \n\u001B[0;32m    465\u001B[0m \u001B[38;5;124;03mArgs:\u001B[39;00m\n\u001B[0;32m    466\u001B[0m \u001B[38;5;124;03m    batch: Integer, index of batch within the current epoch.\u001B[39;00m\n\u001B[0;32m    467\u001B[0m \u001B[38;5;124;03m    logs: Dict. Aggregated metric results up until this batch.\u001B[39;00m\n\u001B[0;32m    468\u001B[0m \u001B[38;5;124;03m\"\"\"\u001B[39;00m\n\u001B[0;32m    469\u001B[0m \u001B[38;5;28;01mif\u001B[39;00m \u001B[38;5;28mself\u001B[39m\u001B[38;5;241m.\u001B[39m_should_call_train_batch_hooks:\n\u001B[1;32m--> 470\u001B[0m     \u001B[38;5;28;43mself\u001B[39;49m\u001B[38;5;241;43m.\u001B[39;49m\u001B[43m_call_batch_hook\u001B[49m\u001B[43m(\u001B[49m\u001B[43mModeKeys\u001B[49m\u001B[38;5;241;43m.\u001B[39;49m\u001B[43mTRAIN\u001B[49m\u001B[43m,\u001B[49m\u001B[43m \u001B[49m\u001B[38;5;124;43m\"\u001B[39;49m\u001B[38;5;124;43mend\u001B[39;49m\u001B[38;5;124;43m\"\u001B[39;49m\u001B[43m,\u001B[49m\u001B[43m \u001B[49m\u001B[43mbatch\u001B[49m\u001B[43m,\u001B[49m\u001B[43m \u001B[49m\u001B[43mlogs\u001B[49m\u001B[38;5;241;43m=\u001B[39;49m\u001B[43mlogs\u001B[49m\u001B[43m)\u001B[49m\n",
      "File \u001B[1;32m~\\miniconda3\\envs\\tf\\lib\\site-packages\\keras\\callbacks.py:317\u001B[0m, in \u001B[0;36mCallbackList._call_batch_hook\u001B[1;34m(self, mode, hook, batch, logs)\u001B[0m\n\u001B[0;32m    315\u001B[0m     \u001B[38;5;28mself\u001B[39m\u001B[38;5;241m.\u001B[39m_call_batch_begin_hook(mode, batch, logs)\n\u001B[0;32m    316\u001B[0m \u001B[38;5;28;01melif\u001B[39;00m hook \u001B[38;5;241m==\u001B[39m \u001B[38;5;124m\"\u001B[39m\u001B[38;5;124mend\u001B[39m\u001B[38;5;124m\"\u001B[39m:\n\u001B[1;32m--> 317\u001B[0m     \u001B[38;5;28;43mself\u001B[39;49m\u001B[38;5;241;43m.\u001B[39;49m\u001B[43m_call_batch_end_hook\u001B[49m\u001B[43m(\u001B[49m\u001B[43mmode\u001B[49m\u001B[43m,\u001B[49m\u001B[43m \u001B[49m\u001B[43mbatch\u001B[49m\u001B[43m,\u001B[49m\u001B[43m \u001B[49m\u001B[43mlogs\u001B[49m\u001B[43m)\u001B[49m\n\u001B[0;32m    318\u001B[0m \u001B[38;5;28;01melse\u001B[39;00m:\n\u001B[0;32m    319\u001B[0m     \u001B[38;5;28;01mraise\u001B[39;00m \u001B[38;5;167;01mValueError\u001B[39;00m(\n\u001B[0;32m    320\u001B[0m         \u001B[38;5;124mf\u001B[39m\u001B[38;5;124m\"\u001B[39m\u001B[38;5;124mUnrecognized hook: \u001B[39m\u001B[38;5;132;01m{\u001B[39;00mhook\u001B[38;5;132;01m}\u001B[39;00m\u001B[38;5;124m. \u001B[39m\u001B[38;5;124m\"\u001B[39m\n\u001B[0;32m    321\u001B[0m         \u001B[38;5;124m'\u001B[39m\u001B[38;5;124mExpected values are [\u001B[39m\u001B[38;5;124m\"\u001B[39m\u001B[38;5;124mbegin\u001B[39m\u001B[38;5;124m\"\u001B[39m\u001B[38;5;124m, \u001B[39m\u001B[38;5;124m\"\u001B[39m\u001B[38;5;124mend\u001B[39m\u001B[38;5;124m\"\u001B[39m\u001B[38;5;124m]\u001B[39m\u001B[38;5;124m'\u001B[39m\n\u001B[0;32m    322\u001B[0m     )\n",
      "File \u001B[1;32m~\\miniconda3\\envs\\tf\\lib\\site-packages\\keras\\callbacks.py:340\u001B[0m, in \u001B[0;36mCallbackList._call_batch_end_hook\u001B[1;34m(self, mode, batch, logs)\u001B[0m\n\u001B[0;32m    337\u001B[0m     batch_time \u001B[38;5;241m=\u001B[39m time\u001B[38;5;241m.\u001B[39mtime() \u001B[38;5;241m-\u001B[39m \u001B[38;5;28mself\u001B[39m\u001B[38;5;241m.\u001B[39m_batch_start_time\n\u001B[0;32m    338\u001B[0m     \u001B[38;5;28mself\u001B[39m\u001B[38;5;241m.\u001B[39m_batch_times\u001B[38;5;241m.\u001B[39mappend(batch_time)\n\u001B[1;32m--> 340\u001B[0m \u001B[38;5;28;43mself\u001B[39;49m\u001B[38;5;241;43m.\u001B[39;49m\u001B[43m_call_batch_hook_helper\u001B[49m\u001B[43m(\u001B[49m\u001B[43mhook_name\u001B[49m\u001B[43m,\u001B[49m\u001B[43m \u001B[49m\u001B[43mbatch\u001B[49m\u001B[43m,\u001B[49m\u001B[43m \u001B[49m\u001B[43mlogs\u001B[49m\u001B[43m)\u001B[49m\n\u001B[0;32m    342\u001B[0m \u001B[38;5;28;01mif\u001B[39;00m \u001B[38;5;28mlen\u001B[39m(\u001B[38;5;28mself\u001B[39m\u001B[38;5;241m.\u001B[39m_batch_times) \u001B[38;5;241m>\u001B[39m\u001B[38;5;241m=\u001B[39m \u001B[38;5;28mself\u001B[39m\u001B[38;5;241m.\u001B[39m_num_batches_for_timing_check:\n\u001B[0;32m    343\u001B[0m     end_hook_name \u001B[38;5;241m=\u001B[39m hook_name\n",
      "File \u001B[1;32m~\\miniconda3\\envs\\tf\\lib\\site-packages\\keras\\callbacks.py:388\u001B[0m, in \u001B[0;36mCallbackList._call_batch_hook_helper\u001B[1;34m(self, hook_name, batch, logs)\u001B[0m\n\u001B[0;32m    386\u001B[0m \u001B[38;5;28;01mfor\u001B[39;00m callback \u001B[38;5;129;01min\u001B[39;00m \u001B[38;5;28mself\u001B[39m\u001B[38;5;241m.\u001B[39mcallbacks:\n\u001B[0;32m    387\u001B[0m     hook \u001B[38;5;241m=\u001B[39m \u001B[38;5;28mgetattr\u001B[39m(callback, hook_name)\n\u001B[1;32m--> 388\u001B[0m     \u001B[43mhook\u001B[49m\u001B[43m(\u001B[49m\u001B[43mbatch\u001B[49m\u001B[43m,\u001B[49m\u001B[43m \u001B[49m\u001B[43mlogs\u001B[49m\u001B[43m)\u001B[49m\n\u001B[0;32m    390\u001B[0m \u001B[38;5;28;01mif\u001B[39;00m \u001B[38;5;28mself\u001B[39m\u001B[38;5;241m.\u001B[39m_check_timing:\n\u001B[0;32m    391\u001B[0m     \u001B[38;5;28;01mif\u001B[39;00m hook_name \u001B[38;5;129;01mnot\u001B[39;00m \u001B[38;5;129;01min\u001B[39;00m \u001B[38;5;28mself\u001B[39m\u001B[38;5;241m.\u001B[39m_hook_times:\n",
      "File \u001B[1;32m~\\miniconda3\\envs\\tf\\lib\\site-packages\\keras\\callbacks.py:1081\u001B[0m, in \u001B[0;36mProgbarLogger.on_train_batch_end\u001B[1;34m(self, batch, logs)\u001B[0m\n\u001B[0;32m   1080\u001B[0m \u001B[38;5;28;01mdef\u001B[39;00m \u001B[38;5;21mon_train_batch_end\u001B[39m(\u001B[38;5;28mself\u001B[39m, batch, logs\u001B[38;5;241m=\u001B[39m\u001B[38;5;28;01mNone\u001B[39;00m):\n\u001B[1;32m-> 1081\u001B[0m     \u001B[38;5;28;43mself\u001B[39;49m\u001B[38;5;241;43m.\u001B[39;49m\u001B[43m_batch_update_progbar\u001B[49m\u001B[43m(\u001B[49m\u001B[43mbatch\u001B[49m\u001B[43m,\u001B[49m\u001B[43m \u001B[49m\u001B[43mlogs\u001B[49m\u001B[43m)\u001B[49m\n",
      "File \u001B[1;32m~\\miniconda3\\envs\\tf\\lib\\site-packages\\keras\\callbacks.py:1157\u001B[0m, in \u001B[0;36mProgbarLogger._batch_update_progbar\u001B[1;34m(self, batch, logs)\u001B[0m\n\u001B[0;32m   1153\u001B[0m     \u001B[38;5;28mself\u001B[39m\u001B[38;5;241m.\u001B[39mseen \u001B[38;5;241m+\u001B[39m\u001B[38;5;241m=\u001B[39m add_seen\n\u001B[0;32m   1155\u001B[0m \u001B[38;5;28;01mif\u001B[39;00m \u001B[38;5;28mself\u001B[39m\u001B[38;5;241m.\u001B[39mverbose \u001B[38;5;241m==\u001B[39m \u001B[38;5;241m1\u001B[39m:\n\u001B[0;32m   1156\u001B[0m     \u001B[38;5;66;03m# Only block async when verbose = 1.\u001B[39;00m\n\u001B[1;32m-> 1157\u001B[0m     logs \u001B[38;5;241m=\u001B[39m \u001B[43mtf_utils\u001B[49m\u001B[38;5;241;43m.\u001B[39;49m\u001B[43msync_to_numpy_or_python_type\u001B[49m\u001B[43m(\u001B[49m\u001B[43mlogs\u001B[49m\u001B[43m)\u001B[49m\n\u001B[0;32m   1158\u001B[0m     \u001B[38;5;28mself\u001B[39m\u001B[38;5;241m.\u001B[39mprogbar\u001B[38;5;241m.\u001B[39mupdate(\u001B[38;5;28mself\u001B[39m\u001B[38;5;241m.\u001B[39mseen, \u001B[38;5;28mlist\u001B[39m(logs\u001B[38;5;241m.\u001B[39mitems()), finalize\u001B[38;5;241m=\u001B[39m\u001B[38;5;28;01mFalse\u001B[39;00m)\n",
      "File \u001B[1;32m~\\miniconda3\\envs\\tf\\lib\\site-packages\\keras\\utils\\tf_utils.py:635\u001B[0m, in \u001B[0;36msync_to_numpy_or_python_type\u001B[1;34m(tensors)\u001B[0m\n\u001B[0;32m    632\u001B[0m         \u001B[38;5;28;01mreturn\u001B[39;00m t\n\u001B[0;32m    633\u001B[0m     \u001B[38;5;28;01mreturn\u001B[39;00m t\u001B[38;5;241m.\u001B[39mitem() \u001B[38;5;28;01mif\u001B[39;00m np\u001B[38;5;241m.\u001B[39mndim(t) \u001B[38;5;241m==\u001B[39m \u001B[38;5;241m0\u001B[39m \u001B[38;5;28;01melse\u001B[39;00m t\n\u001B[1;32m--> 635\u001B[0m \u001B[38;5;28;01mreturn\u001B[39;00m \u001B[43mtf\u001B[49m\u001B[38;5;241;43m.\u001B[39;49m\u001B[43mnest\u001B[49m\u001B[38;5;241;43m.\u001B[39;49m\u001B[43mmap_structure\u001B[49m\u001B[43m(\u001B[49m\u001B[43m_to_single_numpy_or_python_type\u001B[49m\u001B[43m,\u001B[49m\u001B[43m \u001B[49m\u001B[43mtensors\u001B[49m\u001B[43m)\u001B[49m\n",
      "File \u001B[1;32m~\\miniconda3\\envs\\tf\\lib\\site-packages\\tensorflow\\python\\util\\nest.py:917\u001B[0m, in \u001B[0;36mmap_structure\u001B[1;34m(func, *structure, **kwargs)\u001B[0m\n\u001B[0;32m    913\u001B[0m flat_structure \u001B[38;5;241m=\u001B[39m (flatten(s, expand_composites) \u001B[38;5;28;01mfor\u001B[39;00m s \u001B[38;5;129;01min\u001B[39;00m structure)\n\u001B[0;32m    914\u001B[0m entries \u001B[38;5;241m=\u001B[39m \u001B[38;5;28mzip\u001B[39m(\u001B[38;5;241m*\u001B[39mflat_structure)\n\u001B[0;32m    916\u001B[0m \u001B[38;5;28;01mreturn\u001B[39;00m pack_sequence_as(\n\u001B[1;32m--> 917\u001B[0m     structure[\u001B[38;5;241m0\u001B[39m], [func(\u001B[38;5;241m*\u001B[39mx) \u001B[38;5;28;01mfor\u001B[39;00m x \u001B[38;5;129;01min\u001B[39;00m entries],\n\u001B[0;32m    918\u001B[0m     expand_composites\u001B[38;5;241m=\u001B[39mexpand_composites)\n",
      "File \u001B[1;32m~\\miniconda3\\envs\\tf\\lib\\site-packages\\tensorflow\\python\\util\\nest.py:917\u001B[0m, in \u001B[0;36m<listcomp>\u001B[1;34m(.0)\u001B[0m\n\u001B[0;32m    913\u001B[0m flat_structure \u001B[38;5;241m=\u001B[39m (flatten(s, expand_composites) \u001B[38;5;28;01mfor\u001B[39;00m s \u001B[38;5;129;01min\u001B[39;00m structure)\n\u001B[0;32m    914\u001B[0m entries \u001B[38;5;241m=\u001B[39m \u001B[38;5;28mzip\u001B[39m(\u001B[38;5;241m*\u001B[39mflat_structure)\n\u001B[0;32m    916\u001B[0m \u001B[38;5;28;01mreturn\u001B[39;00m pack_sequence_as(\n\u001B[1;32m--> 917\u001B[0m     structure[\u001B[38;5;241m0\u001B[39m], [\u001B[43mfunc\u001B[49m\u001B[43m(\u001B[49m\u001B[38;5;241;43m*\u001B[39;49m\u001B[43mx\u001B[49m\u001B[43m)\u001B[49m \u001B[38;5;28;01mfor\u001B[39;00m x \u001B[38;5;129;01min\u001B[39;00m entries],\n\u001B[0;32m    918\u001B[0m     expand_composites\u001B[38;5;241m=\u001B[39mexpand_composites)\n",
      "File \u001B[1;32m~\\miniconda3\\envs\\tf\\lib\\site-packages\\keras\\utils\\tf_utils.py:628\u001B[0m, in \u001B[0;36msync_to_numpy_or_python_type.<locals>._to_single_numpy_or_python_type\u001B[1;34m(t)\u001B[0m\n\u001B[0;32m    625\u001B[0m \u001B[38;5;28;01mdef\u001B[39;00m \u001B[38;5;21m_to_single_numpy_or_python_type\u001B[39m(t):\n\u001B[0;32m    626\u001B[0m     \u001B[38;5;66;03m# Don't turn ragged or sparse tensors to NumPy.\u001B[39;00m\n\u001B[0;32m    627\u001B[0m     \u001B[38;5;28;01mif\u001B[39;00m \u001B[38;5;28misinstance\u001B[39m(t, tf\u001B[38;5;241m.\u001B[39mTensor):\n\u001B[1;32m--> 628\u001B[0m         t \u001B[38;5;241m=\u001B[39m \u001B[43mt\u001B[49m\u001B[38;5;241;43m.\u001B[39;49m\u001B[43mnumpy\u001B[49m\u001B[43m(\u001B[49m\u001B[43m)\u001B[49m\n\u001B[0;32m    629\u001B[0m     \u001B[38;5;66;03m# Strings, ragged and sparse tensors don't have .item(). Return them\u001B[39;00m\n\u001B[0;32m    630\u001B[0m     \u001B[38;5;66;03m# as-is.\u001B[39;00m\n\u001B[0;32m    631\u001B[0m     \u001B[38;5;28;01mif\u001B[39;00m \u001B[38;5;129;01mnot\u001B[39;00m \u001B[38;5;28misinstance\u001B[39m(t, (np\u001B[38;5;241m.\u001B[39mndarray, np\u001B[38;5;241m.\u001B[39mgeneric)):\n",
      "File \u001B[1;32m~\\miniconda3\\envs\\tf\\lib\\site-packages\\tensorflow\\python\\framework\\ops.py:1157\u001B[0m, in \u001B[0;36m_EagerTensorBase.numpy\u001B[1;34m(self)\u001B[0m\n\u001B[0;32m   1134\u001B[0m \u001B[38;5;250m\u001B[39m\u001B[38;5;124;03m\"\"\"Copy of the contents of this Tensor into a NumPy array or scalar.\u001B[39;00m\n\u001B[0;32m   1135\u001B[0m \n\u001B[0;32m   1136\u001B[0m \u001B[38;5;124;03mUnlike NumPy arrays, Tensors are immutable, so this method has to copy\u001B[39;00m\n\u001B[1;32m   (...)\u001B[0m\n\u001B[0;32m   1154\u001B[0m \u001B[38;5;124;03m    NumPy dtype.\u001B[39;00m\n\u001B[0;32m   1155\u001B[0m \u001B[38;5;124;03m\"\"\"\u001B[39;00m\n\u001B[0;32m   1156\u001B[0m \u001B[38;5;66;03m# TODO(slebedev): Consider avoiding a copy for non-CPU or remote tensors.\u001B[39;00m\n\u001B[1;32m-> 1157\u001B[0m maybe_arr \u001B[38;5;241m=\u001B[39m \u001B[38;5;28;43mself\u001B[39;49m\u001B[38;5;241;43m.\u001B[39;49m\u001B[43m_numpy\u001B[49m\u001B[43m(\u001B[49m\u001B[43m)\u001B[49m  \u001B[38;5;66;03m# pylint: disable=protected-access\u001B[39;00m\n\u001B[0;32m   1158\u001B[0m \u001B[38;5;28;01mreturn\u001B[39;00m maybe_arr\u001B[38;5;241m.\u001B[39mcopy() \u001B[38;5;28;01mif\u001B[39;00m \u001B[38;5;28misinstance\u001B[39m(maybe_arr, np\u001B[38;5;241m.\u001B[39mndarray) \u001B[38;5;28;01melse\u001B[39;00m maybe_arr\n",
      "File \u001B[1;32m~\\miniconda3\\envs\\tf\\lib\\site-packages\\tensorflow\\python\\framework\\ops.py:1123\u001B[0m, in \u001B[0;36m_EagerTensorBase._numpy\u001B[1;34m(self)\u001B[0m\n\u001B[0;32m   1121\u001B[0m \u001B[38;5;28;01mdef\u001B[39;00m \u001B[38;5;21m_numpy\u001B[39m(\u001B[38;5;28mself\u001B[39m):\n\u001B[0;32m   1122\u001B[0m   \u001B[38;5;28;01mtry\u001B[39;00m:\n\u001B[1;32m-> 1123\u001B[0m     \u001B[38;5;28;01mreturn\u001B[39;00m \u001B[38;5;28;43mself\u001B[39;49m\u001B[38;5;241;43m.\u001B[39;49m\u001B[43m_numpy_internal\u001B[49m\u001B[43m(\u001B[49m\u001B[43m)\u001B[49m\n\u001B[0;32m   1124\u001B[0m   \u001B[38;5;28;01mexcept\u001B[39;00m core\u001B[38;5;241m.\u001B[39m_NotOkStatusException \u001B[38;5;28;01mas\u001B[39;00m e:  \u001B[38;5;66;03m# pylint: disable=protected-access\u001B[39;00m\n\u001B[0;32m   1125\u001B[0m     \u001B[38;5;28;01mraise\u001B[39;00m core\u001B[38;5;241m.\u001B[39m_status_to_exception(e) \u001B[38;5;28;01mfrom\u001B[39;00m \u001B[38;5;28;01mNone\u001B[39;00m\n",
      "\u001B[1;31mKeyboardInterrupt\u001B[0m: "
     ]
    }
   ],
   "execution_count": 16
  },
  {
   "cell_type": "markdown",
   "source": [],
   "metadata": {
    "collapsed": false
   }
  },
  {
   "cell_type": "code",
   "execution_count": null,
   "metadata": {},
   "outputs": [],
   "source": [
    "# Load a VGG19 model with random initialized weights\n",
    "pre_trained_model = VGG19(weights='imagenet', include_top=False, input_shape=(img_height, img_width, 3))\n",
    "\n",
    "# Create a new model\n",
    "trained_model = Sequential()\n",
    "# Add the base model as the first layer\n",
    "trained_model.add(pre_trained_model)\n",
    "# Flatten the output of the base model\n",
    "trained_model.add(Flatten())\n",
    "# Add the final output layer with softmax activation\n",
    "trained_model.add(Dense(len(classes), activation='softmax'))\n",
    "\n",
    "# Compile the model\n",
    "trained_model.compile(optimizer='adam', loss='categorical_crossentropy', metrics=['accuracy'])\n",
    "\n",
    "# Train the model\n",
    "trained_history  = trained_model.fit(\n",
    "    train_generator,\n",
    "    validation_data=validation_generator,\n",
    "    epochs=10)\n",
    "\n",
    "trained_model.save(\"models/trained_model_raw_data.h5\")"
   ]
  },
  {
   "cell_type": "markdown",
   "metadata": {},
   "source": [
    "#### The differences in loss and accuracy of the plain and pre trained network over the first 10 epochs"
   ],
   "outputs": []
  },
  {
   "cell_type": "code",
   "execution_count": null,
   "metadata": {},
   "outputs": [],
   "source": [
    "# Extract loss and accuracy values for both models\n",
    "plain_loss = plain_history.history['loss']\n",
    "plain_accuracy = plain_history.history['accuracy']\n",
    "trained_loss = trained_history.history['loss']\n",
    "trained_accuracy = trained_history.history['accuracy']\n",
    "\n",
    "# Plot the loss curves\n",
    "plt.figure(figsize=(12, 6))\n",
    "plt.plot(range(1, 11), plain_loss, 'b-', label='Plain Model')\n",
    "plt.plot(range(1, 11), trained_loss, 'r-', label='Pre-trained Model')\n",
    "plt.title('Loss Curves')\n",
    "plt.xlabel('Epochs')\n",
    "plt.ylabel('Loss')\n",
    "plt.legend()\n",
    "plt.show()\n",
    "\n",
    "# Plot the accuracy curves\n",
    "plt.figure(figsize=(12, 6))\n",
    "plt.plot(range(1, 11), plain_accuracy, 'b-', label='Plain Model')\n",
    "plt.plot(range(1, 11), trained_accuracy, 'r-', label='Pre-trained Model')\n",
    "plt.title('Accuracy Curves')\n",
    "plt.xlabel('Epochs')\n",
    "plt.ylabel('Accuracy')\n",
    "plt.legend()\n",
    "plt.show()"
   ]
  },
  {
   "cell_type": "markdown",
   "metadata": {},
   "source": [
    "4. Data cleansing: Remove “bad” images from the dataset. Which did you remove? How many? Discuss results."
   ],
   "outputs": []
  },
  {
   "cell_type": "code",
   "execution_count": null,
   "metadata": {},
   "outputs": [],
   "source": []
  },
  {
   "cell_type": "markdown",
   "metadata": {},
   "source": [
    "5. Add data augmentation: \n",
    "    - Random flip\n",
    "    - Random contrast\n",
    "    - Random translation"
   ],
   "outputs": []
  },
  {
   "cell_type": "code",
   "execution_count": null,
   "metadata": {},
   "outputs": [],
   "source": [
    "def custom_preprocessing(image):\n",
    "    # Generate a random contrast factor\n",
    "    contrast_factor = np.random.uniform(0.8, 1.2)\n",
    "    # Apply contrast adjustment\n",
    "    image = image * contrast_factor\n",
    "    image = tf.clip_by_value(image, 0.0, 1.0)  # Clip values to the [0, 1] range\n",
    "    return image"
   ]
  },
  {
   "cell_type": "code",
   "execution_count": null,
   "metadata": {},
   "outputs": [],
   "source": [
    "# Define parameters for the loader\n",
    "batch_size = 10\n",
    "img_height = 224\n",
    "img_width = 224\n",
    "\n",
    "# Load the training data\n",
    "train_datagen = ImageDataGenerator(\n",
    "        rescale=1. / 255,\n",
    "        validation_split=0.3,\n",
    "        horizontal_flip=True,  # Apply random flip\n",
    "        vertical_flip=True,  # Apply random flip\n",
    "        width_shift_range=0.2,  # Apply random translation\n",
    "        height_shift_range=0.2,  # Apply random translation\n",
    "        preprocessing_function=custom_preprocessing # Apply random contrast\n",
    ")\n",
    "\n",
    "train_generator = train_datagen.flow_from_directory(\n",
    "    base_dir,\n",
    "    target_size=(img_height, img_width),\n",
    "    batch_size=batch_size,\n",
    "    class_mode='categorical',\n",
    "    subset='training')  # set as training data\n",
    "\n",
    "# Load the validation data\n",
    "validation_generator = train_datagen.flow_from_directory(\n",
    "    base_dir,\n",
    "    target_size=(img_height, img_width),\n",
    "    batch_size=batch_size,\n",
    "    class_mode='categorical',\n",
    "    subset='validation')  # set as validation data"
   ]
  },
  {
   "cell_type": "markdown",
   "metadata": {},
   "source": [
    "#### Train both models again"
   ],
   "outputs": []
  },
  {
   "cell_type": "code",
   "execution_count": null,
   "metadata": {},
   "outputs": [],
   "source": [
    "# Load a VGG19 model with random initialized weights\n",
    "base_model = VGG19(weights=None, include_top=False, input_shape=(img_height, img_width, 3))\n",
    "\n",
    "# Create a new model\n",
    "plain_model = Sequential()\n",
    "# Add the base model as the first layer\n",
    "plain_model.add(base_model)\n",
    "# Flatten the output of the base model\n",
    "plain_model.add(Flatten())\n",
    "# Add the final output layer with softmax activation\n",
    "plain_model.add(Dense(len(classes), activation='softmax'))\n",
    "\n",
    "# Compile the model\n",
    "plain_model.compile(optimizer='adam', loss='categorical_crossentropy', metrics=['accuracy'])\n",
    "\n",
    "# Train the model\n",
    "plain_history = plain_model.fit(\n",
    "    train_generator,\n",
    "    validation_data=validation_generator,\n",
    "    epochs=10)\n",
    "\n",
    "plain_model.save(\"models/plain_model_augmentated_data.h5\")"
   ]
  },
  {
   "cell_type": "code",
   "execution_count": null,
   "metadata": {},
   "outputs": [],
   "source": [
    "# Load a VGG19 model with random initialized weights\n",
    "pre_trained_model = VGG19(weights='imagenet', include_top=False, input_shape=(img_height, img_width, 3))\n",
    "\n",
    "# Create a new model\n",
    "trained_model = Sequential()\n",
    "# Add the base model as the first layer\n",
    "trained_model.add(pre_trained_model)\n",
    "# Flatten the output of the base model\n",
    "trained_model.add(Flatten())\n",
    "# Add the final output layer with softmax activation\n",
    "trained_model.add(Dense(len(classes), activation='softmax'))\n",
    "\n",
    "# Compile the model\n",
    "trained_model.compile(optimizer='adam', loss='categorical_crossentropy', metrics=['accuracy'])\n",
    "\n",
    "# Train the model\n",
    "trained_history  = trained_model.fit(\n",
    "    train_generator,\n",
    "    validation_data=validation_generator,\n",
    "    epochs=10)\n",
    "\n",
    "trained_model.save(\"models/trained_model_augmentated_data.h5\")"
   ]
  },
  {
   "cell_type": "code",
   "execution_count": null,
   "metadata": {},
   "outputs": [],
   "source": [
    "# Extract loss and accuracy values for both models\n",
    "plain_loss = plain_history.history['loss']\n",
    "plain_accuracy = plain_history.history['accuracy']\n",
    "trained_loss = trained_history.history['loss']\n",
    "trained_accuracy = trained_history.history['accuracy']\n",
    "\n",
    "# Plot the loss curves\n",
    "plt.figure(figsize=(12, 6))\n",
    "plt.plot(range(1, 11), plain_loss, 'b-', label='Plain Model')\n",
    "plt.plot(range(1, 11), trained_loss, 'r-', label='Pre-trained Model')\n",
    "plt.title('Loss Curves')\n",
    "plt.xlabel('Epochs')\n",
    "plt.ylabel('Loss')\n",
    "plt.legend()\n",
    "plt.show()\n",
    "\n",
    "# Plot the accuracy curves\n",
    "plt.figure(figsize=(12, 6))\n",
    "plt.plot(range(1, 11), plain_accuracy, 'b-', label='Plain Model')\n",
    "plt.plot(range(1, 11), trained_accuracy, 'r-', label='Pre-trained Model')\n",
    "plt.title('Accuracy Curves')\n",
    "plt.xlabel('Epochs')\n",
    "plt.ylabel('Accuracy')\n",
    "plt.legend()\n",
    "plt.show()"
   ]
  },
  {
   "cell_type": "markdown",
   "metadata": {},
   "source": [
    "6. Rebuild VGG19. After layer block4_conv4 (25, 25, 512):\n",
    "    - Add inception layer with dimensionality reduction (no of output filters should be 512, choose own values for the filter dimensionality reduction in 1x1 layers)\n",
    "    - Add conv layer (kernel 1x1,  filters 1024, padding valid, stride 1, activation leaky relu)\n",
    "    - Add conv layer (kernel 3x3,  filters 1024, padding same, stride 1, activation relu)\n",
    "    - Freeze conv2 layers and before"
   ],
   "outputs": []
  },
  {
   "cell_type": "code",
   "execution_count": null,
   "metadata": {},
   "outputs": [],
   "source": [
    "# Load a VGG19 model with random initialized weights\n",
    "base_model = VGG19(weights=None, include_top=False, input_shape=(img_height, img_width, 3))\n",
    "\n",
    "# Create a new model\n",
    "plain_model = Sequential()\n",
    "\n",
    "# Add layers until block4_conv4\n",
    "for layer in base_model.layers:\n",
    "    plain_model.add(layer)\n",
    "    if layer.name == 'block4_conv4':\n",
    "        break\n",
    "\n",
    "# Freeze the layers before block2_conv2\n",
    "freeze = True\n",
    "for layer in plain_model.layers:\n",
    "    if layer.name == 'block2_conv2':\n",
    "        freeze = False\n",
    "    layer.trainable = not freeze\n",
    "\n",
    "# Add the inception layer with dimensionality reduction\n",
    "plain_model.add(Conv2D(512, (1, 1), activation='relu'))\n",
    "plain_model.add(Conv2D(256, (1, 1), activation='relu'))\n",
    "plain_model.add(Conv2D(512, (3, 3), padding='same', activation='relu'))\n",
    "\n",
    "# Add the conv layer with kernel 1x1, filters 1024, padding valid, stride 1, activation leaky relu\n",
    "plain_model.add(Conv2D(1024, (1, 1), padding='valid', strides=1, activation=LeakyReLU(alpha=0.1)))\n",
    "\n",
    "# Add the conv layer with kernel 3x3, filters 1024, padding same, stride 1, activation relu\n",
    "plain_model.add(Conv2D(1024, (3, 3), padding='same', strides=1, activation='relu'))\n",
    "\n",
    "# Flatten the output of the last added layer\n",
    "plain_model.add(Flatten())\n",
    "\n",
    "# Add the final output layer with softmax activation\n",
    "plain_model.add(Dense(len(classes), activation='softmax'))\n",
    "\n",
    "# Compile the model\n",
    "plain_model.compile(optimizer='adam', loss='categorical_crossentropy', metrics=['accuracy'])\n",
    "\n",
    "# Train the model\n",
    "plain_history = plain_model.fit(\n",
    "    train_generator,\n",
    "    validation_data=validation_generator,\n",
    "    epochs=10)\n",
    "\n",
    "plain_model.save(\"models/plain_Rebuild_VGG19_model_augmentated_data.h5\")"
   ]
  },
  {
   "cell_type": "code",
   "execution_count": null,
   "metadata": {},
   "outputs": [],
   "source": [
    "# Load a VGG19 model with random initialized weights\n",
    "pre_trained_model = VGG19(weights='imagenet', include_top=False, input_shape=(img_height, img_width, 3))\n",
    "\n",
    "# Create a new model\n",
    "trained_model = Sequential()\n",
    "\n",
    "# Add layers until block4_conv4\n",
    "for layer in pre_trained_model.layers:\n",
    "    trained_model.add(layer)\n",
    "    if layer.name == 'block4_conv4':\n",
    "        break\n",
    "\n",
    "# Freeze the layers before block2_conv2\n",
    "freeze = True\n",
    "for layer in trained_model.layers:\n",
    "    if layer.name == 'block2_conv2':\n",
    "        freeze = False\n",
    "    layer.trainable = not freeze\n",
    "\n",
    "# Add the inception layer with dimensionality reduction\n",
    "trained_model.add(Conv2D(512, (1, 1), activation='relu'))\n",
    "trained_model.add(Conv2D(256, (1, 1), activation='relu'))\n",
    "trained_model.add(Conv2D(512, (3, 3), padding='same', activation='relu'))\n",
    "\n",
    "# Add the conv layer with kernel 1x1, filters 1024, padding valid, stride 1, activation leaky relu\n",
    "trained_model.add(Conv2D(1024, (1, 1), padding='valid', strides=1, activation=LeakyReLU(alpha=0.1)))\n",
    "\n",
    "# Add the conv layer with kernel 3x3, filters 1024, padding same, stride 1, activation relu\n",
    "trained_model.add(Conv2D(1024, (3, 3), padding='same', strides=1, activation='relu'))\n",
    "\n",
    "# Flatten the output of the last added layer\n",
    "trained_model.add(Flatten())\n",
    "\n",
    "# Add the final output layer with softmax activation\n",
    "trained_model.add(Dense(len(classes), activation='softmax'))\n",
    "\n",
    "# Compile the model\n",
    "trained_model.compile(optimizer='adam', loss='categorical_crossentropy', metrics=['accuracy'])\n",
    "\n",
    "# Train the model\n",
    "trained_history  = trained_model.fit(\n",
    "    train_generator,\n",
    "    validation_data=validation_generator,\n",
    "    epochs=10)\n",
    "\n",
    "trained_model.save(\"models/trained_Rebuild_VGG19_model_augmentated_data.h5\")"
   ]
  },
  {
   "cell_type": "code",
   "execution_count": null,
   "metadata": {},
   "outputs": [],
   "source": [
    "# Extract loss and accuracy values for both models\n",
    "plain_loss = plain_history.history['loss']\n",
    "plain_accuracy = plain_history.history['accuracy']\n",
    "trained_loss = trained_history.history['loss']\n",
    "trained_accuracy = trained_history.history['accuracy']\n",
    "\n",
    "# Plot the loss curves\n",
    "plt.figure(figsize=(12, 6))\n",
    "plt.plot(range(1, 11), plain_loss, 'b-', label='Plain Model')\n",
    "plt.plot(range(1, 11), trained_loss, 'r-', label='Pre-trained Model')\n",
    "plt.title('Loss Curves')\n",
    "plt.xlabel('Epochs')\n",
    "plt.ylabel('Loss')\n",
    "plt.legend()\n",
    "plt.show()\n",
    "\n",
    "# Plot the accuracy curves\n",
    "plt.figure(figsize=(12, 6))\n",
    "plt.plot(range(1, 11), plain_accuracy, 'b-', label='Plain Model')\n",
    "plt.plot(range(1, 11), trained_accuracy, 'r-', label='Pre-trained Model')\n",
    "plt.title('Accuracy Curves')\n",
    "plt.xlabel('Epochs')\n",
    "plt.ylabel('Accuracy')\n",
    "plt.legend()\n",
    "plt.show()"
   ]
  },
  {
   "cell_type": "markdown",
   "metadata": {},
   "source": [
    "7. Test a few of your own images and present the results"
   ],
   "outputs": []
  },
  {
   "cell_type": "code",
   "execution_count": null,
   "metadata": {},
   "outputs": [],
   "source": []
  },
  {
   "cell_type": "markdown",
   "metadata": {},
   "source": [
    "8. Answer the following questions:\n",
    "    - What accuracy can be achieved? What is the accuracy of the train vs. test set?\n",
    "    - On what infrastructure did you train it? What is the inference time?\n",
    "    - What are the number of parameters of the model?\n",
    "    - Which categories are most likely to be confused by the algorithm? Show results in a confusion matrix."
   ],
   "outputs": []
  },
  {
   "cell_type": "code",
   "execution_count": null,
   "outputs": [],
   "source": [],
   "metadata": {
    "collapsed": false
   }
  },
  {
   "cell_type": "code",
   "execution_count": null,
   "outputs": [],
   "source": [],
   "metadata": {
    "collapsed": false
   }
  }
 ],
 "metadata": {
  "kernelspec": {
   "display_name": "Python 3 (ipykernel)",
   "language": "python",
   "name": "python3"
  },
  "language_info": {
   "codemirror_mode": {
    "name": "ipython",
    "version": 3
   },
   "file_extension": ".py",
   "mimetype": "text/x-python",
   "name": "python",
   "nbconvert_exporter": "python",
   "pygments_lexer": "ipython3",
   "version": "3.9.13"
  }
 },
 "nbformat": 4,
 "nbformat_minor": 1
}
